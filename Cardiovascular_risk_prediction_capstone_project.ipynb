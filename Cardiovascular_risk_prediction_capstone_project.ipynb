{
  "cells": [
    {
      "cell_type": "markdown",
      "metadata": {
        "id": "view-in-github",
        "colab_type": "text"
      },
      "source": [
        "<a href=\"https://colab.research.google.com/github/neerajac19/cardiovascular-risk-prediction/blob/main/Cardiovascular_risk_prediction_capstone_project.ipynb\" target=\"_parent\"><img src=\"https://colab.research.google.com/assets/colab-badge.svg\" alt=\"Open In Colab\"/></a>"
      ]
    },
    {
      "cell_type": "markdown",
      "source": [
        "# **Introduction**\n",
        "\n",
        "***World Health Organization has estimated 12 million deaths occur worldwide, every year due to Heart diseases. Half the deaths in the United States and other developed countries are due to cardio vascular diseases. The early prognosis of cardiovascular diseases can aid in making decisions on lifestyle changes in high risk patients and in turn reduce the complications.***\n",
        "\n"
      ],
      "metadata": {
        "id": "NQqo9QVQToOh"
      }
    },
    {
      "cell_type": "markdown",
      "metadata": {
        "id": "VDLcGa-QYfi9"
      },
      "source": [
        "• Sex: male or female(\"M\" or \"F\")\n",
        "\n",
        "• Age: Age of the patient;(Continuous - Although the recorded ages have been truncated to whole numbers, the concept of age is continuous)\n",
        "Behavioral\n",
        "\n",
        "• is_smoking: whether or not the patient is a current smoker (\"YES\" or \"NO\")\n",
        "\n",
        "• Cigs Per Day: the number of cigarettes that the person smoked on average in one day.(can beconsidered continuous as one can have any number of cigarettes, even half a cigarette.)\n",
        "\n",
        "Medical( history)\n",
        "\n",
        "• BP Meds: whether or not the patient was on blood pressure medication (Nominal)\n",
        "\n",
        "• Prevalent Stroke: whether or not the patient had previously had a stroke (Nominal)\n",
        "\n",
        "• Prevalent Hyp: whether or not the patient was hypertensive (Nominal)\n",
        "\n",
        "• Diabetes: whether or not the patient had diabetes (Nominal)\n",
        "\n",
        "Medical(current)\n",
        "\n",
        "• Tot Chol: total cholesterol level (Continuous)\n",
        "\n",
        "• Sys BP: systolic blood pressure (Continuous)\n",
        "\n",
        "• Dia BP: diastolic blood pressure (Continuous)\n",
        "\n",
        "• BMI: Body Mass Index (Continuous)\n",
        "\n",
        "• Heart Rate: heart rate (Continuous - In medical research, variables such as heart rate though in fact discrete, yet are considered continuous because of large number of possible values.)\n",
        "\n",
        "• Glucose: glucose level (Continuous)"
      ]
    },
    {
      "cell_type": "code",
      "execution_count": 4,
      "metadata": {
        "id": "Lp61ICkdxrCE"
      },
      "outputs": [],
      "source": [
        "#importing libraries\n",
        "import numpy as np\n",
        "import pandas as pd\n",
        "from numpy import math\n",
        "import seaborn as sns\n",
        "import matplotlib.pyplot as plt\n",
        "import plotly.express as px\n",
        "from matplotlib import rcParams\n",
        "from matplotlib.cm import rainbow\n",
        "%matplotlib inline\n",
        "from sklearn.neighbors import KNeighborsClassifier\n",
        "from sklearn.ensemble import RandomForestClassifier\n",
        "from sklearn.tree import DecisionTreeClassifier\n",
        "from sklearn.impute import SimpleImputer\n",
        "from sklearn.linear_model import LogisticRegression\n",
        "from sklearn import svm\n",
        "from sklearn.metrics import roc_auc_score, confusion_matrix, accuracy_score, roc_curve\n",
        "from sklearn.model_selection import KFold\n",
        "from sklearn.model_selection import cross_val_score\n",
        "from sklearn.preprocessing import StandardScaler\n",
        "from sklearn.model_selection import GridSearchCV\n",
        "from sklearn.model_selection import train_test_split\n",
        "import warnings\n",
        "warnings.filterwarnings('ignore')"
      ]
    },
    {
      "cell_type": "code",
      "source": [
        "from google.colab import drive\n",
        "drive.mount('/content/drive')"
      ],
      "metadata": {
        "colab": {
          "base_uri": "https://localhost:8080/"
        },
        "id": "0UR28r5bhoI9",
        "outputId": "804fc2ed-8bcd-4352-cd18-5b18759a0ad4"
      },
      "execution_count": 3,
      "outputs": [
        {
          "output_type": "stream",
          "name": "stdout",
          "text": [
            "Mounted at /content/drive\n"
          ]
        }
      ]
    },
    {
      "cell_type": "code",
      "execution_count": 5,
      "metadata": {
        "id": "8CrvKlP9Ptei"
      },
      "outputs": [],
      "source": [
        "#Importing the dataset\n",
        "dataset = pd.read_csv('/content/drive/MyDrive/Colab Notebooks/Module4/Week 2/Capstone Project/Copy of data_cardiovascular_risk.csv')"
      ]
    },
    {
      "cell_type": "code",
      "source": [
        "#making a copy\n",
        "dataset1 = dataset.copy()"
      ],
      "metadata": {
        "id": "zUAfN15S8ob_"
      },
      "execution_count": 6,
      "outputs": []
    },
    {
      "cell_type": "code",
      "execution_count": 7,
      "metadata": {
        "colab": {
          "base_uri": "https://localhost:8080/",
          "height": 206
        },
        "id": "su6EkMPYQ3w6",
        "outputId": "a71d6169-bd33-4b4c-8989-3741c7b752a3"
      },
      "outputs": [
        {
          "output_type": "execute_result",
          "data": {
            "text/plain": [
              "   id  age  education sex is_smoking  cigsPerDay  BPMeds  prevalentStroke  \\\n",
              "0   0   64        2.0   F        YES         3.0     0.0                0   \n",
              "1   1   36        4.0   M         NO         0.0     0.0                0   \n",
              "2   2   46        1.0   F        YES        10.0     0.0                0   \n",
              "3   3   50        1.0   M        YES        20.0     0.0                0   \n",
              "4   4   64        1.0   F        YES        30.0     0.0                0   \n",
              "\n",
              "   prevalentHyp  diabetes  totChol  sysBP  diaBP    BMI  heartRate  glucose  \\\n",
              "0             0         0    221.0  148.0   85.0    NaN       90.0     80.0   \n",
              "1             1         0    212.0  168.0   98.0  29.77       72.0     75.0   \n",
              "2             0         0    250.0  116.0   71.0  20.35       88.0     94.0   \n",
              "3             1         0    233.0  158.0   88.0  28.26       68.0     94.0   \n",
              "4             0         0    241.0  136.5   85.0  26.42       70.0     77.0   \n",
              "\n",
              "   TenYearCHD  \n",
              "0           1  \n",
              "1           0  \n",
              "2           0  \n",
              "3           1  \n",
              "4           0  "
            ],
            "text/html": [
              "\n",
              "  <div id=\"df-2a7e4bf8-a97e-46da-be5a-f45eeac5317f\">\n",
              "    <div class=\"colab-df-container\">\n",
              "      <div>\n",
              "<style scoped>\n",
              "    .dataframe tbody tr th:only-of-type {\n",
              "        vertical-align: middle;\n",
              "    }\n",
              "\n",
              "    .dataframe tbody tr th {\n",
              "        vertical-align: top;\n",
              "    }\n",
              "\n",
              "    .dataframe thead th {\n",
              "        text-align: right;\n",
              "    }\n",
              "</style>\n",
              "<table border=\"1\" class=\"dataframe\">\n",
              "  <thead>\n",
              "    <tr style=\"text-align: right;\">\n",
              "      <th></th>\n",
              "      <th>id</th>\n",
              "      <th>age</th>\n",
              "      <th>education</th>\n",
              "      <th>sex</th>\n",
              "      <th>is_smoking</th>\n",
              "      <th>cigsPerDay</th>\n",
              "      <th>BPMeds</th>\n",
              "      <th>prevalentStroke</th>\n",
              "      <th>prevalentHyp</th>\n",
              "      <th>diabetes</th>\n",
              "      <th>totChol</th>\n",
              "      <th>sysBP</th>\n",
              "      <th>diaBP</th>\n",
              "      <th>BMI</th>\n",
              "      <th>heartRate</th>\n",
              "      <th>glucose</th>\n",
              "      <th>TenYearCHD</th>\n",
              "    </tr>\n",
              "  </thead>\n",
              "  <tbody>\n",
              "    <tr>\n",
              "      <th>0</th>\n",
              "      <td>0</td>\n",
              "      <td>64</td>\n",
              "      <td>2.0</td>\n",
              "      <td>F</td>\n",
              "      <td>YES</td>\n",
              "      <td>3.0</td>\n",
              "      <td>0.0</td>\n",
              "      <td>0</td>\n",
              "      <td>0</td>\n",
              "      <td>0</td>\n",
              "      <td>221.0</td>\n",
              "      <td>148.0</td>\n",
              "      <td>85.0</td>\n",
              "      <td>NaN</td>\n",
              "      <td>90.0</td>\n",
              "      <td>80.0</td>\n",
              "      <td>1</td>\n",
              "    </tr>\n",
              "    <tr>\n",
              "      <th>1</th>\n",
              "      <td>1</td>\n",
              "      <td>36</td>\n",
              "      <td>4.0</td>\n",
              "      <td>M</td>\n",
              "      <td>NO</td>\n",
              "      <td>0.0</td>\n",
              "      <td>0.0</td>\n",
              "      <td>0</td>\n",
              "      <td>1</td>\n",
              "      <td>0</td>\n",
              "      <td>212.0</td>\n",
              "      <td>168.0</td>\n",
              "      <td>98.0</td>\n",
              "      <td>29.77</td>\n",
              "      <td>72.0</td>\n",
              "      <td>75.0</td>\n",
              "      <td>0</td>\n",
              "    </tr>\n",
              "    <tr>\n",
              "      <th>2</th>\n",
              "      <td>2</td>\n",
              "      <td>46</td>\n",
              "      <td>1.0</td>\n",
              "      <td>F</td>\n",
              "      <td>YES</td>\n",
              "      <td>10.0</td>\n",
              "      <td>0.0</td>\n",
              "      <td>0</td>\n",
              "      <td>0</td>\n",
              "      <td>0</td>\n",
              "      <td>250.0</td>\n",
              "      <td>116.0</td>\n",
              "      <td>71.0</td>\n",
              "      <td>20.35</td>\n",
              "      <td>88.0</td>\n",
              "      <td>94.0</td>\n",
              "      <td>0</td>\n",
              "    </tr>\n",
              "    <tr>\n",
              "      <th>3</th>\n",
              "      <td>3</td>\n",
              "      <td>50</td>\n",
              "      <td>1.0</td>\n",
              "      <td>M</td>\n",
              "      <td>YES</td>\n",
              "      <td>20.0</td>\n",
              "      <td>0.0</td>\n",
              "      <td>0</td>\n",
              "      <td>1</td>\n",
              "      <td>0</td>\n",
              "      <td>233.0</td>\n",
              "      <td>158.0</td>\n",
              "      <td>88.0</td>\n",
              "      <td>28.26</td>\n",
              "      <td>68.0</td>\n",
              "      <td>94.0</td>\n",
              "      <td>1</td>\n",
              "    </tr>\n",
              "    <tr>\n",
              "      <th>4</th>\n",
              "      <td>4</td>\n",
              "      <td>64</td>\n",
              "      <td>1.0</td>\n",
              "      <td>F</td>\n",
              "      <td>YES</td>\n",
              "      <td>30.0</td>\n",
              "      <td>0.0</td>\n",
              "      <td>0</td>\n",
              "      <td>0</td>\n",
              "      <td>0</td>\n",
              "      <td>241.0</td>\n",
              "      <td>136.5</td>\n",
              "      <td>85.0</td>\n",
              "      <td>26.42</td>\n",
              "      <td>70.0</td>\n",
              "      <td>77.0</td>\n",
              "      <td>0</td>\n",
              "    </tr>\n",
              "  </tbody>\n",
              "</table>\n",
              "</div>\n",
              "      <button class=\"colab-df-convert\" onclick=\"convertToInteractive('df-2a7e4bf8-a97e-46da-be5a-f45eeac5317f')\"\n",
              "              title=\"Convert this dataframe to an interactive table.\"\n",
              "              style=\"display:none;\">\n",
              "        \n",
              "  <svg xmlns=\"http://www.w3.org/2000/svg\" height=\"24px\"viewBox=\"0 0 24 24\"\n",
              "       width=\"24px\">\n",
              "    <path d=\"M0 0h24v24H0V0z\" fill=\"none\"/>\n",
              "    <path d=\"M18.56 5.44l.94 2.06.94-2.06 2.06-.94-2.06-.94-.94-2.06-.94 2.06-2.06.94zm-11 1L8.5 8.5l.94-2.06 2.06-.94-2.06-.94L8.5 2.5l-.94 2.06-2.06.94zm10 10l.94 2.06.94-2.06 2.06-.94-2.06-.94-.94-2.06-.94 2.06-2.06.94z\"/><path d=\"M17.41 7.96l-1.37-1.37c-.4-.4-.92-.59-1.43-.59-.52 0-1.04.2-1.43.59L10.3 9.45l-7.72 7.72c-.78.78-.78 2.05 0 2.83L4 21.41c.39.39.9.59 1.41.59.51 0 1.02-.2 1.41-.59l7.78-7.78 2.81-2.81c.8-.78.8-2.07 0-2.86zM5.41 20L4 18.59l7.72-7.72 1.47 1.35L5.41 20z\"/>\n",
              "  </svg>\n",
              "      </button>\n",
              "      \n",
              "  <style>\n",
              "    .colab-df-container {\n",
              "      display:flex;\n",
              "      flex-wrap:wrap;\n",
              "      gap: 12px;\n",
              "    }\n",
              "\n",
              "    .colab-df-convert {\n",
              "      background-color: #E8F0FE;\n",
              "      border: none;\n",
              "      border-radius: 50%;\n",
              "      cursor: pointer;\n",
              "      display: none;\n",
              "      fill: #1967D2;\n",
              "      height: 32px;\n",
              "      padding: 0 0 0 0;\n",
              "      width: 32px;\n",
              "    }\n",
              "\n",
              "    .colab-df-convert:hover {\n",
              "      background-color: #E2EBFA;\n",
              "      box-shadow: 0px 1px 2px rgba(60, 64, 67, 0.3), 0px 1px 3px 1px rgba(60, 64, 67, 0.15);\n",
              "      fill: #174EA6;\n",
              "    }\n",
              "\n",
              "    [theme=dark] .colab-df-convert {\n",
              "      background-color: #3B4455;\n",
              "      fill: #D2E3FC;\n",
              "    }\n",
              "\n",
              "    [theme=dark] .colab-df-convert:hover {\n",
              "      background-color: #434B5C;\n",
              "      box-shadow: 0px 1px 3px 1px rgba(0, 0, 0, 0.15);\n",
              "      filter: drop-shadow(0px 1px 2px rgba(0, 0, 0, 0.3));\n",
              "      fill: #FFFFFF;\n",
              "    }\n",
              "  </style>\n",
              "\n",
              "      <script>\n",
              "        const buttonEl =\n",
              "          document.querySelector('#df-2a7e4bf8-a97e-46da-be5a-f45eeac5317f button.colab-df-convert');\n",
              "        buttonEl.style.display =\n",
              "          google.colab.kernel.accessAllowed ? 'block' : 'none';\n",
              "\n",
              "        async function convertToInteractive(key) {\n",
              "          const element = document.querySelector('#df-2a7e4bf8-a97e-46da-be5a-f45eeac5317f');\n",
              "          const dataTable =\n",
              "            await google.colab.kernel.invokeFunction('convertToInteractive',\n",
              "                                                     [key], {});\n",
              "          if (!dataTable) return;\n",
              "\n",
              "          const docLinkHtml = 'Like what you see? Visit the ' +\n",
              "            '<a target=\"_blank\" href=https://colab.research.google.com/notebooks/data_table.ipynb>data table notebook</a>'\n",
              "            + ' to learn more about interactive tables.';\n",
              "          element.innerHTML = '';\n",
              "          dataTable['output_type'] = 'display_data';\n",
              "          await google.colab.output.renderOutput(dataTable, element);\n",
              "          const docLink = document.createElement('div');\n",
              "          docLink.innerHTML = docLinkHtml;\n",
              "          element.appendChild(docLink);\n",
              "        }\n",
              "      </script>\n",
              "    </div>\n",
              "  </div>\n",
              "  "
            ]
          },
          "metadata": {},
          "execution_count": 7
        }
      ],
      "source": [
        "dataset1.head()"
      ]
    },
    {
      "cell_type": "code",
      "execution_count": 8,
      "metadata": {
        "colab": {
          "base_uri": "https://localhost:8080/"
        },
        "id": "YZbFU6lERFWk",
        "outputId": "a99f045e-291b-4b5b-c5db-838cbd6bdabf"
      },
      "outputs": [
        {
          "output_type": "stream",
          "name": "stdout",
          "text": [
            "<class 'pandas.core.frame.DataFrame'>\n",
            "RangeIndex: 3390 entries, 0 to 3389\n",
            "Data columns (total 17 columns):\n",
            " #   Column           Non-Null Count  Dtype  \n",
            "---  ------           --------------  -----  \n",
            " 0   id               3390 non-null   int64  \n",
            " 1   age              3390 non-null   int64  \n",
            " 2   education        3303 non-null   float64\n",
            " 3   sex              3390 non-null   object \n",
            " 4   is_smoking       3390 non-null   object \n",
            " 5   cigsPerDay       3368 non-null   float64\n",
            " 6   BPMeds           3346 non-null   float64\n",
            " 7   prevalentStroke  3390 non-null   int64  \n",
            " 8   prevalentHyp     3390 non-null   int64  \n",
            " 9   diabetes         3390 non-null   int64  \n",
            " 10  totChol          3352 non-null   float64\n",
            " 11  sysBP            3390 non-null   float64\n",
            " 12  diaBP            3390 non-null   float64\n",
            " 13  BMI              3376 non-null   float64\n",
            " 14  heartRate        3389 non-null   float64\n",
            " 15  glucose          3086 non-null   float64\n",
            " 16  TenYearCHD       3390 non-null   int64  \n",
            "dtypes: float64(9), int64(6), object(2)\n",
            "memory usage: 450.4+ KB\n"
          ]
        }
      ],
      "source": [
        "dataset1.info()"
      ]
    },
    {
      "cell_type": "code",
      "source": [
        "dataset1.shape"
      ],
      "metadata": {
        "colab": {
          "base_uri": "https://localhost:8080/"
        },
        "id": "vi29TrZmnieX",
        "outputId": "891e12aa-4e7c-47f3-d412-50851f1210fa"
      },
      "execution_count": 9,
      "outputs": [
        {
          "output_type": "execute_result",
          "data": {
            "text/plain": [
              "(3390, 17)"
            ]
          },
          "metadata": {},
          "execution_count": 9
        }
      ]
    },
    {
      "cell_type": "code",
      "source": [
        "dataset1.rename(columns={\"TenYearCHD\":\"RISK\"},inplace=True)"
      ],
      "metadata": {
        "id": "Xk5kO-yJGUNA"
      },
      "execution_count": 10,
      "outputs": []
    },
    {
      "cell_type": "code",
      "source": [
        "#defining dependent and independent variables\n",
        "dependent_variable = 'RISK'  \n",
        "independent_variables = list(set(dataset1.columns.tolist())-{dependent_variable})"
      ],
      "metadata": {
        "id": "RVS_YKQbE8CR"
      },
      "execution_count": 11,
      "outputs": []
    },
    {
      "cell_type": "markdown",
      "source": [
        "### ***Data Preprocessing***\n",
        "\n",
        "*Data preprocessing is an integral step in Machine Learning as the quality of data and the useful information that can be derived from it directly affects the ability of our model to learn; therefore, it is extremely important that we preprocess our data before feeding it into our model.*\n",
        "\n",
        "*The concepts that I will cover in this project are*\n",
        "\n",
        "* *Handling Null Values*\n",
        "* *Feature Scaling*\n",
        "* *Handling Categorical Variables*\n",
        "\n",
        "\n",
        "\n"
      ],
      "metadata": {
        "id": "LfzptVJ_Y4oa"
      }
    },
    {
      "cell_type": "markdown",
      "source": [
        "### Handling Null Values :"
      ],
      "metadata": {
        "id": "QOmyA8UPbLYI"
      }
    },
    {
      "cell_type": "code",
      "source": [
        "#checking for the null values\n",
        "dataset1.isnull().sum()"
      ],
      "metadata": {
        "colab": {
          "base_uri": "https://localhost:8080/"
        },
        "id": "O8ZUSXiI83Um",
        "outputId": "5b23f848-96e7-466c-9c51-242212197e98"
      },
      "execution_count": 12,
      "outputs": [
        {
          "output_type": "execute_result",
          "data": {
            "text/plain": [
              "id                   0\n",
              "age                  0\n",
              "education           87\n",
              "sex                  0\n",
              "is_smoking           0\n",
              "cigsPerDay          22\n",
              "BPMeds              44\n",
              "prevalentStroke      0\n",
              "prevalentHyp         0\n",
              "diabetes             0\n",
              "totChol             38\n",
              "sysBP                0\n",
              "diaBP                0\n",
              "BMI                 14\n",
              "heartRate            1\n",
              "glucose            304\n",
              "RISK                 0\n",
              "dtype: int64"
            ]
          },
          "metadata": {},
          "execution_count": 12
        }
      ]
    },
    {
      "cell_type": "code",
      "source": [
        "sns.heatmap(dataset1.isnull(),yticklabels=False,cbar=False,cmap='viridis')"
      ],
      "metadata": {
        "colab": {
          "base_uri": "https://localhost:8080/",
          "height": 351
        },
        "id": "WKnfkJ569g6l",
        "outputId": "e1fec8c8-09c2-4c8b-c429-2b4ee47defb5"
      },
      "execution_count": 13,
      "outputs": [
        {
          "output_type": "execute_result",
          "data": {
            "text/plain": [
              "<matplotlib.axes._subplots.AxesSubplot at 0x7f5477a683a0>"
            ]
          },
          "metadata": {},
          "execution_count": 13
        },
        {
          "output_type": "display_data",
          "data": {
            "text/plain": [
              "<Figure size 432x288 with 1 Axes>"
            ],
            "image/png": "[encoded data removed]"
          },
          "metadata": {
            "needs_background": "light"
          }
        }
      ]
    },
    {
      "cell_type": "markdown",
      "source": [
        "*It is not the best option to remove the rows and columns from our dataset as it* *can result in significant information loss.*\n",
        "*So we can handle null values with the help of Imputation.*\n",
        "\n",
        "**Imputation:**\n",
        "\n",
        "*Imputation is simply the process of substituting the missing values of our dataset. We can do this by defining our own customised function or we can simply perform imputation by using the SimpleImputer class provided by sklearn.*"
      ],
      "metadata": {
        "id": "Ttl4td8Cc89D"
      }
    },
    {
      "cell_type": "code",
      "source": [
        "#separating categorical columns and continuous columns\n",
        "column_datatypes= dataset1.drop(\"RISK\",axis=1).dtypes\n",
        "categorical_columns=list(column_datatypes[column_datatypes==\"object\"].index.values)\n",
        "continous_columns=list(column_datatypes[(column_datatypes==\"int64\") | (column_datatypes==\"float64\") ].index.values)"
      ],
      "metadata": {
        "id": "Xdp3l0y1P-Hc"
      },
      "execution_count": 14,
      "outputs": []
    },
    {
      "cell_type": "code",
      "source": [
        "#applying simple imputer\n",
        "simp_imputer_cat = SimpleImputer(strategy=\"most_frequent\")\n",
        "simp_imputer_cat.fit(dataset1[categorical_columns])\n",
        "dataset1[categorical_columns] = simp_imputer_cat.transform(dataset1[categorical_columns])"
      ],
      "metadata": {
        "id": "TP9A-a-vyFVq"
      },
      "execution_count": 15,
      "outputs": []
    },
    {
      "cell_type": "code",
      "source": [
        "simp_imputer_con = SimpleImputer(strategy=\"median\")\n",
        "simp_imputer_con.fit(dataset1[continous_columns])\n",
        "dataset1[continous_columns] = simp_imputer_con.transform(dataset1[continous_columns])"
      ],
      "metadata": {
        "id": "z4HMb1DQGHih"
      },
      "execution_count": 16,
      "outputs": []
    },
    {
      "cell_type": "code",
      "source": [
        "dataset1.isnull().sum()"
      ],
      "metadata": {
        "colab": {
          "base_uri": "https://localhost:8080/"
        },
        "id": "RJUSuO3fEerK",
        "outputId": "b482013a-192d-4e9d-810a-77d3b13097cd"
      },
      "execution_count": 17,
      "outputs": [
        {
          "output_type": "execute_result",
          "data": {
            "text/plain": [
              "id                 0\n",
              "age                0\n",
              "education          0\n",
              "sex                0\n",
              "is_smoking         0\n",
              "cigsPerDay         0\n",
              "BPMeds             0\n",
              "prevalentStroke    0\n",
              "prevalentHyp       0\n",
              "diabetes           0\n",
              "totChol            0\n",
              "sysBP              0\n",
              "diaBP              0\n",
              "BMI                0\n",
              "heartRate          0\n",
              "glucose            0\n",
              "RISK               0\n",
              "dtype: int64"
            ]
          },
          "metadata": {},
          "execution_count": 17
        }
      ]
    },
    {
      "cell_type": "markdown",
      "source": [
        "***Outliers***\n",
        "\n",
        "*A box plot shows the distribution of quantitative data in a way that facilitates comparisons between variables.The box shows the quartiles of the dataset while the whiskers extend to show the rest of the distribution.The box plot is a standardized way of displaying the distribution of data based on the five number summary:*\n",
        "\n",
        "*   *Minimum*\n",
        "*   *First quartile*\n",
        "*   *Median*\n",
        "*   *Third quartile*\n",
        "*   *Maximum*\n",
        "\n",
        "*In the simplest box plot the central rectangle spans the first quartile to the third quartile (the interquartile range or IQR).A segment inside the rectangle shows the median and “whiskers” above and below the box show the locations of the minimum and maximum*.\n"
      ],
      "metadata": {
        "id": "WmaRZ1j-KbMZ"
      }
    },
    {
      "cell_type": "code",
      "source": [
        "#box plot for checking the outliers\n",
        "plt.subplots(figsize=(12,5))\n",
        "dataset1.boxplot(patch_artist=True, sym=\"k.\")\n",
        "plt.xlabel('Features')\n",
        "plt.ylabel('Data')\n",
        "plt.xticks(rotation=90)"
      ],
      "metadata": {
        "colab": {
          "base_uri": "https://localhost:8080/",
          "height": 438
        },
        "id": "T7pGxNfA8zP2",
        "outputId": "64e411b1-dc1c-4b56-8cdb-329e37e1df67"
      },
      "execution_count": 18,
      "outputs": [
        {
          "output_type": "execute_result",
          "data": {
            "text/plain": [
              "(array([ 1,  2,  3,  4,  5,  6,  7,  8,  9, 10, 11, 12, 13, 14, 15]),\n",
              " <a list of 15 Text major ticklabel objects>)"
            ]
          },
          "metadata": {},
          "execution_count": 18
        },
        {
          "output_type": "display_data",
          "data": {
            "text/plain": [
              "<Figure size 864x360 with 1 Axes>"
            ],
            "image/png": "[encoded data removed]"
          },
          "metadata": {
            "needs_background": "light"
          }
        }
      ]
    },
    {
      "cell_type": "code",
      "source": [
        "#defining the limits to find the outliers\n",
        "def outlier_limits(df, col_name, q1 = 0.25, q3 = 0.75):\n",
        "    quartile1 = df[col_name].quantile(q1)\n",
        "    quartile3 = df[col_name].quantile(q3)\n",
        "    interquantile_range = quartile3 - quartile1\n",
        "    up_limit = quartile3 + 1.5 * interquantile_range\n",
        "    low_limit = quartile1 - 1.5 * interquantile_range\n",
        "    return low_limit, up_limit\n",
        "#replacing them with upper and lower limits\n",
        "def replace_with_limits(df, variable, q1 = 0.25, q3 = 0.75):\n",
        "    low_limit, up_limit = outlier_limits(df, variable, q1 = q1, q3 = q3)\n",
        "    df.loc[(df[variable] < low_limit), variable] = low_limit\n",
        "    df.loc[(df[variable] > up_limit), variable] = up_limit\n",
        "    \n",
        "for variable in dataset1[continous_columns].columns:\n",
        "    replace_with_limits(dataset1, variable)\n"
      ],
      "metadata": {
        "id": "yg8aANPBiUr_"
      },
      "execution_count": 19,
      "outputs": []
    },
    {
      "cell_type": "code",
      "source": [
        "plt.subplots(figsize=(12,5))\n",
        "dataset1.boxplot(patch_artist=True, sym=\"k.\")\n",
        "plt.xlabel('Features')\n",
        "plt.ylabel('Data')\n",
        "plt.xticks(rotation=90)"
      ],
      "metadata": {
        "id": "ZCu3eGQaJ_R1",
        "outputId": "88447281-582b-494d-f9b0-e5e2721a8d2d",
        "colab": {
          "base_uri": "https://localhost:8080/",
          "height": 438
        }
      },
      "execution_count": 20,
      "outputs": [
        {
          "output_type": "execute_result",
          "data": {
            "text/plain": [
              "(array([ 1,  2,  3,  4,  5,  6,  7,  8,  9, 10, 11, 12, 13, 14, 15]),\n",
              " <a list of 15 Text major ticklabel objects>)"
            ]
          },
          "metadata": {},
          "execution_count": 20
        },
        {
          "output_type": "display_data",
          "data": {
            "text/plain": [
              "<Figure size 864x360 with 1 Axes>"
            ],
            "image/png": "[encoded data removed]"
          },
          "metadata": {
            "needs_background": "light"
          }
        }
      ]
    },
    {
      "cell_type": "markdown",
      "source": [
        "## **EDA**"
      ],
      "metadata": {
        "id": "p-3ZEhp-ilPU"
      }
    },
    {
      "cell_type": "markdown",
      "source": [
        "### Sex vs risk"
      ],
      "metadata": {
        "id": "wlAVCiUJkWAY"
      }
    },
    {
      "cell_type": "code",
      "source": [
        "freq_df = dataset1.groupby('RISK')['sex'].value_counts().unstack(0)\n",
        "pct_df = freq_df.divide(freq_df.sum(axis=1), axis=0)*100\n",
        "pct_df.plot(kind=\"bar\")\n",
        "plt.ylim(0,100)\n",
        "plt.ylabel('Percentage')\n",
        "plt.xticks(rotation=0)"
      ],
      "metadata": {
        "colab": {
          "base_uri": "https://localhost:8080/",
          "height": 300
        },
        "id": "4v7lrleeZM79",
        "outputId": "f04554ce-3958-4cf5-c977-56cd16edcb05"
      },
      "execution_count": 21,
      "outputs": [
        {
          "output_type": "execute_result",
          "data": {
            "text/plain": [
              "(array([0, 1]), <a list of 2 Text major ticklabel objects>)"
            ]
          },
          "metadata": {},
          "execution_count": 21
        },
        {
          "output_type": "display_data",
          "data": {
            "text/plain": [
              "<Figure size 432x288 with 1 Axes>"
            ],
            "image/png": "[encoded data removed]"
          },
          "metadata": {
            "needs_background": "light"
          }
        }
      ]
    },
    {
      "cell_type": "markdown",
      "source": [
        "Male people have higher chances of getting heart diseases."
      ],
      "metadata": {
        "id": "cIQUzuuEnd4Z"
      }
    },
    {
      "cell_type": "markdown",
      "source": [
        "### Smoking vs Risk"
      ],
      "metadata": {
        "id": "z7a4VH2cluGt"
      }
    },
    {
      "cell_type": "code",
      "source": [
        "freq_df = dataset1.groupby('RISK')['is_smoking'].value_counts().unstack(0)\n",
        "pct_df = freq_df.divide(freq_df.sum(axis=1), axis=0)*100\n",
        "pct_df.plot(kind=\"bar\")\n",
        "plt.ylim(0,100)\n",
        "plt.ylabel('Percentage')\n",
        "plt.xticks(rotation=0)"
      ],
      "metadata": {
        "colab": {
          "base_uri": "https://localhost:8080/",
          "height": 301
        },
        "id": "TC2SzXj-zEjG",
        "outputId": "34a2ed7d-2b52-4f75-9e75-03cc9539d675"
      },
      "execution_count": 22,
      "outputs": [
        {
          "output_type": "execute_result",
          "data": {
            "text/plain": [
              "(array([0, 1]), <a list of 2 Text major ticklabel objects>)"
            ]
          },
          "metadata": {},
          "execution_count": 22
        },
        {
          "output_type": "display_data",
          "data": {
            "text/plain": [
              "<Figure size 432x288 with 1 Axes>"
            ],
            "image/png": "[encoded data removed]"
          },
          "metadata": {
            "needs_background": "light"
          }
        }
      ]
    },
    {
      "cell_type": "markdown",
      "source": [
        "Smoking people have higher chances of getting heart diseases."
      ],
      "metadata": {
        "id": "FGOIuYD79v7K"
      }
    },
    {
      "cell_type": "markdown",
      "source": [
        "### Prevalent stroke"
      ],
      "metadata": {
        "id": "XagjEQyUopIg"
      }
    },
    {
      "cell_type": "code",
      "source": [
        "freq_df = dataset1.groupby('RISK')['prevalentStroke'].value_counts().unstack(0)\n",
        "pct_df = freq_df.divide(freq_df.sum(axis=1), axis=0)*100\n",
        "pct_df.plot(kind=\"bar\")\n",
        "plt.ylim(0,100)\n",
        "plt.ylabel('Percentage')\n",
        "plt.xticks(rotation=0)"
      ],
      "metadata": {
        "colab": {
          "base_uri": "https://localhost:8080/",
          "height": 300
        },
        "id": "M5BDV8QH1FH2",
        "outputId": "b5498c0d-8147-485c-8017-46fe50d0c1c8"
      },
      "execution_count": 23,
      "outputs": [
        {
          "output_type": "execute_result",
          "data": {
            "text/plain": [
              "(array([0]), <a list of 1 Text major ticklabel objects>)"
            ]
          },
          "metadata": {},
          "execution_count": 23
        },
        {
          "output_type": "display_data",
          "data": {
            "text/plain": [
              "<Figure size 432x288 with 1 Axes>"
            ],
            "image/png": "[encoded data removed]"
          },
          "metadata": {
            "needs_background": "light"
          }
        }
      ]
    },
    {
      "cell_type": "markdown",
      "source": [
        "Patients, who have no prevalent stroke  have higher chances of getting heart disease.\n"
      ],
      "metadata": {
        "id": "zYT9cjDy-JoC"
      }
    },
    {
      "cell_type": "markdown",
      "source": [
        "### Prevalent Hypertension"
      ],
      "metadata": {
        "id": "LQSguAYQo_Al"
      }
    },
    {
      "cell_type": "code",
      "source": [
        "freq_df = dataset1.groupby('RISK')['prevalentHyp'].value_counts().unstack(0)\n",
        "pct_df = freq_df.divide(freq_df.sum(axis=1), axis=0)*100\n",
        "pct_df.plot(kind=\"bar\")\n",
        "plt.ylim(0,100)\n",
        "plt.ylabel('Percentage')\n",
        "plt.xticks(rotation=0)"
      ],
      "metadata": {
        "colab": {
          "base_uri": "https://localhost:8080/",
          "height": 300
        },
        "id": "yU580IBo1y1P",
        "outputId": "0e64cfb7-1c43-458d-95e5-8fef3913b66a"
      },
      "execution_count": 24,
      "outputs": [
        {
          "output_type": "execute_result",
          "data": {
            "text/plain": [
              "(array([0, 1]), <a list of 2 Text major ticklabel objects>)"
            ]
          },
          "metadata": {},
          "execution_count": 24
        },
        {
          "output_type": "display_data",
          "data": {
            "text/plain": [
              "<Figure size 432x288 with 1 Axes>"
            ],
            "image/png": "[encoded data removed]"
          },
          "metadata": {
            "needs_background": "light"
          }
        }
      ]
    },
    {
      "cell_type": "markdown",
      "source": [
        "People who have no history of hyper -tension have lesser chances of heart disease.\n"
      ],
      "metadata": {
        "id": "a2E3J8Uv-MEa"
      }
    },
    {
      "cell_type": "markdown",
      "source": [
        "### Diabetes"
      ],
      "metadata": {
        "id": "ILVB6-ifpydI"
      }
    },
    {
      "cell_type": "code",
      "source": [
        "freq_df = dataset1.groupby('RISK')['diabetes'].value_counts().unstack(0)\n",
        "pct_df = freq_df.divide(freq_df.sum(axis=1), axis=0)*100\n",
        "pct_df.plot(kind=\"bar\")\n",
        "plt.ylim(0,100)\n",
        "plt.ylabel('Percentage')\n",
        "plt.xticks(rotation=0)"
      ],
      "metadata": {
        "colab": {
          "base_uri": "https://localhost:8080/",
          "height": 300
        },
        "id": "9P8Viq4e2hsi",
        "outputId": "43a91643-4778-4afa-e855-e30d92ad6a0d"
      },
      "execution_count": 25,
      "outputs": [
        {
          "output_type": "execute_result",
          "data": {
            "text/plain": [
              "(array([0]), <a list of 1 Text major ticklabel objects>)"
            ]
          },
          "metadata": {},
          "execution_count": 25
        },
        {
          "output_type": "display_data",
          "data": {
            "text/plain": [
              "<Figure size 432x288 with 1 Axes>"
            ],
            "image/png": "[encoded data removed]"
          },
          "metadata": {
            "needs_background": "light"
          }
        }
      ]
    },
    {
      "cell_type": "markdown",
      "source": [
        "Diabetes patients have higher chances of risk.\n"
      ],
      "metadata": {
        "id": "R-T5DF6e-jUE"
      }
    },
    {
      "cell_type": "code",
      "source": [
        "plt.rcParams['figure.figsize'] = (15, 5)\n",
        "dataset1.groupby(['age','RISK'])['id'].count().unstack().plot(kind='bar')\n",
        "plt.title('Age wise Effected People')"
      ],
      "metadata": {
        "colab": {
          "base_uri": "https://localhost:8080/",
          "height": 379
        },
        "id": "k7nbnUBShFzY",
        "outputId": "165cfed6-e81b-4a53-f31e-f1dddfc2f63f"
      },
      "execution_count": 26,
      "outputs": [
        {
          "output_type": "execute_result",
          "data": {
            "text/plain": [
              "Text(0.5, 1.0, 'Age wise Effected People')"
            ]
          },
          "metadata": {},
          "execution_count": 26
        },
        {
          "output_type": "display_data",
          "data": {
            "text/plain": [
              "<Figure size 1080x360 with 1 Axes>"
            ],
            "image/png": "[encoded data removed]"
          },
          "metadata": {
            "needs_background": "light"
          }
        }
      ]
    },
    {
      "cell_type": "code",
      "source": [
        "dataset1['age_group'] = dataset1['age'].apply(lambda x : 5*(x//5))"
      ],
      "metadata": {
        "id": "W3Gh37O_3LIU"
      },
      "execution_count": 27,
      "outputs": []
    },
    {
      "cell_type": "code",
      "source": [
        "ax=sns.factorplot('age_group', 'RISK', kind='bar', data = dataset1, size=4, aspect=1.5)\n",
        "ax.set_ylabels('CHD Probability')"
      ],
      "metadata": {
        "colab": {
          "base_uri": "https://localhost:8080/",
          "height": 314
        },
        "id": "Gk-Jh8H93XVL",
        "outputId": "ce01fee5-94e2-4077-d5a9-92250cd36dd0"
      },
      "execution_count": 28,
      "outputs": [
        {
          "output_type": "execute_result",
          "data": {
            "text/plain": [
              "<seaborn.axisgrid.FacetGrid at 0x7f54748a1ee0>"
            ]
          },
          "metadata": {},
          "execution_count": 28
        },
        {
          "output_type": "display_data",
          "data": {
            "text/plain": [
              "<Figure size 432x288 with 1 Axes>"
            ],
            "image/png": "[encoded data removed]"
          },
          "metadata": {
            "needs_background": "light"
          }
        }
      ]
    },
    {
      "cell_type": "markdown",
      "source": [
        "The positive CHD cases seems to be more prevalent in older people."
      ],
      "metadata": {
        "id": "9qN5AVuG2DiD"
      }
    },
    {
      "cell_type": "code",
      "source": [
        "plt.rcParams['figure.figsize'] = (10, 5)\n",
        "dataset1.groupby(['education','RISK'])['id'].count().unstack().plot(kind='bar')\n",
        "plt.title('Education with Ten years CHD')"
      ],
      "metadata": {
        "colab": {
          "base_uri": "https://localhost:8080/",
          "height": 373
        },
        "id": "rNzW5VLNh1Gz",
        "outputId": "a88d4fef-90f4-4a47-d344-f0e894372ce6"
      },
      "execution_count": 29,
      "outputs": [
        {
          "output_type": "execute_result",
          "data": {
            "text/plain": [
              "Text(0.5, 1.0, 'Education with Ten years CHD')"
            ]
          },
          "metadata": {},
          "execution_count": 29
        },
        {
          "output_type": "display_data",
          "data": {
            "text/plain": [
              "<Figure size 720x360 with 1 Axes>"
            ],
            "image/png": "[encoded data removed]"
          },
          "metadata": {
            "needs_background": "light"
          }
        }
      ]
    },
    {
      "cell_type": "markdown",
      "source": [
        "Aged people have higher chances of heart\n",
        "         diseases.\n"
      ],
      "metadata": {
        "id": "hujNJ9ko-19F"
      }
    },
    {
      "cell_type": "markdown",
      "source": [
        "\n",
        "# Feature engineering\n",
        "\n",
        "\n",
        "*Systolic and Diastolic blood pressure has a high correlation that can be commonly classified into hypertension.*"
      ],
      "metadata": {
        "id": "X5JByF3YxxNv"
      }
    },
    {
      "cell_type": "code",
      "source": [
        "def blood_presure_classification(SysBP, DiaBP):\n",
        "  if (SysBP < 90) or (DiaBP < 60):\n",
        "    return 0 # 'Hypotension'\n",
        "  if (SysBP < 120) and (DiaBP < 80):\n",
        "    return 1 # 'Optimal'\n",
        "  if (SysBP < 130) or (DiaBP < 86):\n",
        "    return 2 # 'Normal'\n",
        "  if (SysBP < 140) or (DiaBP < 90):\n",
        "    return 3 # 'PreHypertensive'\n",
        "  if (SysBP > 140) and (DiaBP < 90):\n",
        "    return 4 # 'IsolatedSystolicHypertension'\n",
        "  if (SysBP < 160) or (DiaBP < 100):\n",
        "    return 5 # 'GradeI'\n",
        "  if (SysBP < 180) or (DiaBP < 110):\n",
        "    return 6 # 'GradeII'\n",
        "  return 7 # 'GradeIII'"
      ],
      "metadata": {
        "id": "YQxHjwPZxlkp"
      },
      "execution_count": 30,
      "outputs": []
    },
    {
      "cell_type": "code",
      "source": [
        "#creating new column using the existing columns\n",
        "dataset1['Hypertension'] = dataset1.apply(lambda x: blood_presure_classification(x['sysBP'],x['diaBP']),axis=1)"
      ],
      "metadata": {
        "id": "sv36EdBVICaD"
      },
      "execution_count": 31,
      "outputs": []
    },
    {
      "cell_type": "code",
      "source": [
        "dataset1.tail()"
      ],
      "metadata": {
        "id": "3q1ubdKWIIZS",
        "outputId": "f68d3406-d5ca-4dc1-aee2-3461afffcd7e",
        "colab": {
          "base_uri": "https://localhost:8080/",
          "height": 270
        }
      },
      "execution_count": 32,
      "outputs": [
        {
          "output_type": "execute_result",
          "data": {
            "text/plain": [
              "          id   age  education sex is_smoking  cigsPerDay  BPMeds  \\\n",
              "3385  3385.0  60.0        1.0   F         NO         0.0     0.0   \n",
              "3386  3386.0  46.0        1.0   F         NO         0.0     0.0   \n",
              "3387  3387.0  44.0        3.0   M        YES         3.0     0.0   \n",
              "3388  3388.0  60.0        1.0   M         NO         0.0     0.0   \n",
              "3389  3389.0  54.0        3.0   F         NO         0.0     0.0   \n",
              "\n",
              "      prevalentStroke  prevalentHyp  diabetes  totChol  sysBP   diaBP    BMI  \\\n",
              "3385              0.0           0.0       0.0    261.0  123.5   79.00  29.28   \n",
              "3386              0.0           0.0       0.0    199.0  102.0   56.00  21.96   \n",
              "3387              0.0           1.0       0.0    351.0  164.0  113.25  28.92   \n",
              "3388              0.0           1.0       0.0    191.0  167.0  105.00  23.01   \n",
              "3389              0.0           0.0       0.0    288.0  124.0   77.00  29.88   \n",
              "\n",
              "      heartRate  glucose  RISK  age_group  Hypertension  \n",
              "3385       70.0    103.0     0       60.0             2  \n",
              "3386       80.0     84.0     0       45.0             0  \n",
              "3387       73.0     72.0     1       40.0             6  \n",
              "3388       80.0     85.0     0       60.0             6  \n",
              "3389       79.0     92.0     0       50.0             2  "
            ],
            "text/html": [
              "\n",
              "  <div id=\"df-ed8c5148-9ee7-4ff2-aabc-1ad0ede66cd8\">\n",
              "    <div class=\"colab-df-container\">\n",
              "      <div>\n",
              "<style scoped>\n",
              "    .dataframe tbody tr th:only-of-type {\n",
              "        vertical-align: middle;\n",
              "    }\n",
              "\n",
              "    .dataframe tbody tr th {\n",
              "        vertical-align: top;\n",
              "    }\n",
              "\n",
              "    .dataframe thead th {\n",
              "        text-align: right;\n",
              "    }\n",
              "</style>\n",
              "<table border=\"1\" class=\"dataframe\">\n",
              "  <thead>\n",
              "    <tr style=\"text-align: right;\">\n",
              "      <th></th>\n",
              "      <th>id</th>\n",
              "      <th>age</th>\n",
              "      <th>education</th>\n",
              "      <th>sex</th>\n",
              "      <th>is_smoking</th>\n",
              "      <th>cigsPerDay</th>\n",
              "      <th>BPMeds</th>\n",
              "      <th>prevalentStroke</th>\n",
              "      <th>prevalentHyp</th>\n",
              "      <th>diabetes</th>\n",
              "      <th>totChol</th>\n",
              "      <th>sysBP</th>\n",
              "      <th>diaBP</th>\n",
              "      <th>BMI</th>\n",
              "      <th>heartRate</th>\n",
              "      <th>glucose</th>\n",
              "      <th>RISK</th>\n",
              "      <th>age_group</th>\n",
              "      <th>Hypertension</th>\n",
              "    </tr>\n",
              "  </thead>\n",
              "  <tbody>\n",
              "    <tr>\n",
              "      <th>3385</th>\n",
              "      <td>3385.0</td>\n",
              "      <td>60.0</td>\n",
              "      <td>1.0</td>\n",
              "      <td>F</td>\n",
              "      <td>NO</td>\n",
              "      <td>0.0</td>\n",
              "      <td>0.0</td>\n",
              "      <td>0.0</td>\n",
              "      <td>0.0</td>\n",
              "      <td>0.0</td>\n",
              "      <td>261.0</td>\n",
              "      <td>123.5</td>\n",
              "      <td>79.00</td>\n",
              "      <td>29.28</td>\n",
              "      <td>70.0</td>\n",
              "      <td>103.0</td>\n",
              "      <td>0</td>\n",
              "      <td>60.0</td>\n",
              "      <td>2</td>\n",
              "    </tr>\n",
              "    <tr>\n",
              "      <th>3386</th>\n",
              "      <td>3386.0</td>\n",
              "      <td>46.0</td>\n",
              "      <td>1.0</td>\n",
              "      <td>F</td>\n",
              "      <td>NO</td>\n",
              "      <td>0.0</td>\n",
              "      <td>0.0</td>\n",
              "      <td>0.0</td>\n",
              "      <td>0.0</td>\n",
              "      <td>0.0</td>\n",
              "      <td>199.0</td>\n",
              "      <td>102.0</td>\n",
              "      <td>56.00</td>\n",
              "      <td>21.96</td>\n",
              "      <td>80.0</td>\n",
              "      <td>84.0</td>\n",
              "      <td>0</td>\n",
              "      <td>45.0</td>\n",
              "      <td>0</td>\n",
              "    </tr>\n",
              "    <tr>\n",
              "      <th>3387</th>\n",
              "      <td>3387.0</td>\n",
              "      <td>44.0</td>\n",
              "      <td>3.0</td>\n",
              "      <td>M</td>\n",
              "      <td>YES</td>\n",
              "      <td>3.0</td>\n",
              "      <td>0.0</td>\n",
              "      <td>0.0</td>\n",
              "      <td>1.0</td>\n",
              "      <td>0.0</td>\n",
              "      <td>351.0</td>\n",
              "      <td>164.0</td>\n",
              "      <td>113.25</td>\n",
              "      <td>28.92</td>\n",
              "      <td>73.0</td>\n",
              "      <td>72.0</td>\n",
              "      <td>1</td>\n",
              "      <td>40.0</td>\n",
              "      <td>6</td>\n",
              "    </tr>\n",
              "    <tr>\n",
              "      <th>3388</th>\n",
              "      <td>3388.0</td>\n",
              "      <td>60.0</td>\n",
              "      <td>1.0</td>\n",
              "      <td>M</td>\n",
              "      <td>NO</td>\n",
              "      <td>0.0</td>\n",
              "      <td>0.0</td>\n",
              "      <td>0.0</td>\n",
              "      <td>1.0</td>\n",
              "      <td>0.0</td>\n",
              "      <td>191.0</td>\n",
              "      <td>167.0</td>\n",
              "      <td>105.00</td>\n",
              "      <td>23.01</td>\n",
              "      <td>80.0</td>\n",
              "      <td>85.0</td>\n",
              "      <td>0</td>\n",
              "      <td>60.0</td>\n",
              "      <td>6</td>\n",
              "    </tr>\n",
              "    <tr>\n",
              "      <th>3389</th>\n",
              "      <td>3389.0</td>\n",
              "      <td>54.0</td>\n",
              "      <td>3.0</td>\n",
              "      <td>F</td>\n",
              "      <td>NO</td>\n",
              "      <td>0.0</td>\n",
              "      <td>0.0</td>\n",
              "      <td>0.0</td>\n",
              "      <td>0.0</td>\n",
              "      <td>0.0</td>\n",
              "      <td>288.0</td>\n",
              "      <td>124.0</td>\n",
              "      <td>77.00</td>\n",
              "      <td>29.88</td>\n",
              "      <td>79.0</td>\n",
              "      <td>92.0</td>\n",
              "      <td>0</td>\n",
              "      <td>50.0</td>\n",
              "      <td>2</td>\n",
              "    </tr>\n",
              "  </tbody>\n",
              "</table>\n",
              "</div>\n",
              "      <button class=\"colab-df-convert\" onclick=\"convertToInteractive('df-ed8c5148-9ee7-4ff2-aabc-1ad0ede66cd8')\"\n",
              "              title=\"Convert this dataframe to an interactive table.\"\n",
              "              style=\"display:none;\">\n",
              "        \n",
              "  <svg xmlns=\"http://www.w3.org/2000/svg\" height=\"24px\"viewBox=\"0 0 24 24\"\n",
              "       width=\"24px\">\n",
              "    <path d=\"M0 0h24v24H0V0z\" fill=\"none\"/>\n",
              "    <path d=\"M18.56 5.44l.94 2.06.94-2.06 2.06-.94-2.06-.94-.94-2.06-.94 2.06-2.06.94zm-11 1L8.5 8.5l.94-2.06 2.06-.94-2.06-.94L8.5 2.5l-.94 2.06-2.06.94zm10 10l.94 2.06.94-2.06 2.06-.94-2.06-.94-.94-2.06-.94 2.06-2.06.94z\"/><path d=\"M17.41 7.96l-1.37-1.37c-.4-.4-.92-.59-1.43-.59-.52 0-1.04.2-1.43.59L10.3 9.45l-7.72 7.72c-.78.78-.78 2.05 0 2.83L4 21.41c.39.39.9.59 1.41.59.51 0 1.02-.2 1.41-.59l7.78-7.78 2.81-2.81c.8-.78.8-2.07 0-2.86zM5.41 20L4 18.59l7.72-7.72 1.47 1.35L5.41 20z\"/>\n",
              "  </svg>\n",
              "      </button>\n",
              "      \n",
              "  <style>\n",
              "    .colab-df-container {\n",
              "      display:flex;\n",
              "      flex-wrap:wrap;\n",
              "      gap: 12px;\n",
              "    }\n",
              "\n",
              "    .colab-df-convert {\n",
              "      background-color: #E8F0FE;\n",
              "      border: none;\n",
              "      border-radius: 50%;\n",
              "      cursor: pointer;\n",
              "      display: none;\n",
              "      fill: #1967D2;\n",
              "      height: 32px;\n",
              "      padding: 0 0 0 0;\n",
              "      width: 32px;\n",
              "    }\n",
              "\n",
              "    .colab-df-convert:hover {\n",
              "      background-color: #E2EBFA;\n",
              "      box-shadow: 0px 1px 2px rgba(60, 64, 67, 0.3), 0px 1px 3px 1px rgba(60, 64, 67, 0.15);\n",
              "      fill: #174EA6;\n",
              "    }\n",
              "\n",
              "    [theme=dark] .colab-df-convert {\n",
              "      background-color: #3B4455;\n",
              "      fill: #D2E3FC;\n",
              "    }\n",
              "\n",
              "    [theme=dark] .colab-df-convert:hover {\n",
              "      background-color: #434B5C;\n",
              "      box-shadow: 0px 1px 3px 1px rgba(0, 0, 0, 0.15);\n",
              "      filter: drop-shadow(0px 1px 2px rgba(0, 0, 0, 0.3));\n",
              "      fill: #FFFFFF;\n",
              "    }\n",
              "  </style>\n",
              "\n",
              "      <script>\n",
              "        const buttonEl =\n",
              "          document.querySelector('#df-ed8c5148-9ee7-4ff2-aabc-1ad0ede66cd8 button.colab-df-convert');\n",
              "        buttonEl.style.display =\n",
              "          google.colab.kernel.accessAllowed ? 'block' : 'none';\n",
              "\n",
              "        async function convertToInteractive(key) {\n",
              "          const element = document.querySelector('#df-ed8c5148-9ee7-4ff2-aabc-1ad0ede66cd8');\n",
              "          const dataTable =\n",
              "            await google.colab.kernel.invokeFunction('convertToInteractive',\n",
              "                                                     [key], {});\n",
              "          if (!dataTable) return;\n",
              "\n",
              "          const docLinkHtml = 'Like what you see? Visit the ' +\n",
              "            '<a target=\"_blank\" href=https://colab.research.google.com/notebooks/data_table.ipynb>data table notebook</a>'\n",
              "            + ' to learn more about interactive tables.';\n",
              "          element.innerHTML = '';\n",
              "          dataTable['output_type'] = 'display_data';\n",
              "          await google.colab.output.renderOutput(dataTable, element);\n",
              "          const docLink = document.createElement('div');\n",
              "          docLink.innerHTML = docLinkHtml;\n",
              "          element.appendChild(docLink);\n",
              "        }\n",
              "      </script>\n",
              "    </div>\n",
              "  </div>\n",
              "  "
            ]
          },
          "metadata": {},
          "execution_count": 32
        }
      ]
    },
    {
      "cell_type": "code",
      "source": [
        "dataset1.drop(['sysBP','diaBP','age'],axis=1,inplace=True)"
      ],
      "metadata": {
        "id": "OOt7XBsoI71q"
      },
      "execution_count": 32,
      "outputs": []
    },
    {
      "cell_type": "markdown",
      "source": [
        "*We have to know that computers do not understand text data and thus, we need to convert these categories to numbers. A simple way of doing that can be to use :*\n",
        "\n",
        "**Label Encoding**"
      ],
      "metadata": {
        "id": "u-DwlpHjfyUr"
      }
    },
    {
      "cell_type": "code",
      "source": [
        "from sklearn.preprocessing import LabelEncoder"
      ],
      "metadata": {
        "id": "Kt1N0JnfUI6g"
      },
      "execution_count": 33,
      "outputs": []
    },
    {
      "cell_type": "code",
      "source": [
        "le=LabelEncoder()\n",
        "dataset1['sex']=le.fit_transform(dataset1['sex'])\n",
        "dataset1['is_smoking']=le.fit_transform(dataset1['is_smoking'])"
      ],
      "metadata": {
        "id": "T6_-1OinT1qG"
      },
      "execution_count": 34,
      "outputs": []
    },
    {
      "cell_type": "code",
      "source": [
        "dataset1.head()"
      ],
      "metadata": {
        "colab": {
          "base_uri": "https://localhost:8080/",
          "height": 270
        },
        "id": "rGTJ9ZtqUL0a",
        "outputId": "75584195-3669-4ca7-f377-650d3b113471"
      },
      "execution_count": 35,
      "outputs": [
        {
          "output_type": "execute_result",
          "data": {
            "text/plain": [
              "    id   age  education  sex  is_smoking  cigsPerDay  BPMeds  prevalentStroke  \\\n",
              "0  0.0  64.0        2.0    0           1         3.0     0.0              0.0   \n",
              "1  1.0  36.0        4.0    1           0         0.0     0.0              0.0   \n",
              "2  2.0  46.0        1.0    0           1        10.0     0.0              0.0   \n",
              "3  3.0  50.0        1.0    1           1        20.0     0.0              0.0   \n",
              "4  4.0  64.0        1.0    0           1        30.0     0.0              0.0   \n",
              "\n",
              "   prevalentHyp  diabetes  totChol  sysBP  diaBP    BMI  heartRate  glucose  \\\n",
              "0           0.0       0.0    221.0  148.0   85.0  25.38       90.0     80.0   \n",
              "1           1.0       0.0    212.0  168.0   98.0  29.77       72.0     75.0   \n",
              "2           0.0       0.0    250.0  116.0   71.0  20.35       88.0     94.0   \n",
              "3           1.0       0.0    233.0  158.0   88.0  28.26       68.0     94.0   \n",
              "4           0.0       0.0    241.0  136.5   85.0  26.42       70.0     77.0   \n",
              "\n",
              "   RISK  age_group  Hypertension  \n",
              "0     1       60.0             2  \n",
              "1     0       35.0             5  \n",
              "2     0       45.0             1  \n",
              "3     1       50.0             3  \n",
              "4     0       60.0             2  "
            ],
            "text/html": [
              "\n",
              "  <div id=\"df-00913d0e-4426-4c56-81f0-2a55ef17b3b8\">\n",
              "    <div class=\"colab-df-container\">\n",
              "      <div>\n",
              "<style scoped>\n",
              "    .dataframe tbody tr th:only-of-type {\n",
              "        vertical-align: middle;\n",
              "    }\n",
              "\n",
              "    .dataframe tbody tr th {\n",
              "        vertical-align: top;\n",
              "    }\n",
              "\n",
              "    .dataframe thead th {\n",
              "        text-align: right;\n",
              "    }\n",
              "</style>\n",
              "<table border=\"1\" class=\"dataframe\">\n",
              "  <thead>\n",
              "    <tr style=\"text-align: right;\">\n",
              "      <th></th>\n",
              "      <th>id</th>\n",
              "      <th>age</th>\n",
              "      <th>education</th>\n",
              "      <th>sex</th>\n",
              "      <th>is_smoking</th>\n",
              "      <th>cigsPerDay</th>\n",
              "      <th>BPMeds</th>\n",
              "      <th>prevalentStroke</th>\n",
              "      <th>prevalentHyp</th>\n",
              "      <th>diabetes</th>\n",
              "      <th>totChol</th>\n",
              "      <th>sysBP</th>\n",
              "      <th>diaBP</th>\n",
              "      <th>BMI</th>\n",
              "      <th>heartRate</th>\n",
              "      <th>glucose</th>\n",
              "      <th>RISK</th>\n",
              "      <th>age_group</th>\n",
              "      <th>Hypertension</th>\n",
              "    </tr>\n",
              "  </thead>\n",
              "  <tbody>\n",
              "    <tr>\n",
              "      <th>0</th>\n",
              "      <td>0.0</td>\n",
              "      <td>64.0</td>\n",
              "      <td>2.0</td>\n",
              "      <td>0</td>\n",
              "      <td>1</td>\n",
              "      <td>3.0</td>\n",
              "      <td>0.0</td>\n",
              "      <td>0.0</td>\n",
              "      <td>0.0</td>\n",
              "      <td>0.0</td>\n",
              "      <td>221.0</td>\n",
              "      <td>148.0</td>\n",
              "      <td>85.0</td>\n",
              "      <td>25.38</td>\n",
              "      <td>90.0</td>\n",
              "      <td>80.0</td>\n",
              "      <td>1</td>\n",
              "      <td>60.0</td>\n",
              "      <td>2</td>\n",
              "    </tr>\n",
              "    <tr>\n",
              "      <th>1</th>\n",
              "      <td>1.0</td>\n",
              "      <td>36.0</td>\n",
              "      <td>4.0</td>\n",
              "      <td>1</td>\n",
              "      <td>0</td>\n",
              "      <td>0.0</td>\n",
              "      <td>0.0</td>\n",
              "      <td>0.0</td>\n",
              "      <td>1.0</td>\n",
              "      <td>0.0</td>\n",
              "      <td>212.0</td>\n",
              "      <td>168.0</td>\n",
              "      <td>98.0</td>\n",
              "      <td>29.77</td>\n",
              "      <td>72.0</td>\n",
              "      <td>75.0</td>\n",
              "      <td>0</td>\n",
              "      <td>35.0</td>\n",
              "      <td>5</td>\n",
              "    </tr>\n",
              "    <tr>\n",
              "      <th>2</th>\n",
              "      <td>2.0</td>\n",
              "      <td>46.0</td>\n",
              "      <td>1.0</td>\n",
              "      <td>0</td>\n",
              "      <td>1</td>\n",
              "      <td>10.0</td>\n",
              "      <td>0.0</td>\n",
              "      <td>0.0</td>\n",
              "      <td>0.0</td>\n",
              "      <td>0.0</td>\n",
              "      <td>250.0</td>\n",
              "      <td>116.0</td>\n",
              "      <td>71.0</td>\n",
              "      <td>20.35</td>\n",
              "      <td>88.0</td>\n",
              "      <td>94.0</td>\n",
              "      <td>0</td>\n",
              "      <td>45.0</td>\n",
              "      <td>1</td>\n",
              "    </tr>\n",
              "    <tr>\n",
              "      <th>3</th>\n",
              "      <td>3.0</td>\n",
              "      <td>50.0</td>\n",
              "      <td>1.0</td>\n",
              "      <td>1</td>\n",
              "      <td>1</td>\n",
              "      <td>20.0</td>\n",
              "      <td>0.0</td>\n",
              "      <td>0.0</td>\n",
              "      <td>1.0</td>\n",
              "      <td>0.0</td>\n",
              "      <td>233.0</td>\n",
              "      <td>158.0</td>\n",
              "      <td>88.0</td>\n",
              "      <td>28.26</td>\n",
              "      <td>68.0</td>\n",
              "      <td>94.0</td>\n",
              "      <td>1</td>\n",
              "      <td>50.0</td>\n",
              "      <td>3</td>\n",
              "    </tr>\n",
              "    <tr>\n",
              "      <th>4</th>\n",
              "      <td>4.0</td>\n",
              "      <td>64.0</td>\n",
              "      <td>1.0</td>\n",
              "      <td>0</td>\n",
              "      <td>1</td>\n",
              "      <td>30.0</td>\n",
              "      <td>0.0</td>\n",
              "      <td>0.0</td>\n",
              "      <td>0.0</td>\n",
              "      <td>0.0</td>\n",
              "      <td>241.0</td>\n",
              "      <td>136.5</td>\n",
              "      <td>85.0</td>\n",
              "      <td>26.42</td>\n",
              "      <td>70.0</td>\n",
              "      <td>77.0</td>\n",
              "      <td>0</td>\n",
              "      <td>60.0</td>\n",
              "      <td>2</td>\n",
              "    </tr>\n",
              "  </tbody>\n",
              "</table>\n",
              "</div>\n",
              "      <button class=\"colab-df-convert\" onclick=\"convertToInteractive('df-00913d0e-4426-4c56-81f0-2a55ef17b3b8')\"\n",
              "              title=\"Convert this dataframe to an interactive table.\"\n",
              "              style=\"display:none;\">\n",
              "        \n",
              "  <svg xmlns=\"http://www.w3.org/2000/svg\" height=\"24px\"viewBox=\"0 0 24 24\"\n",
              "       width=\"24px\">\n",
              "    <path d=\"M0 0h24v24H0V0z\" fill=\"none\"/>\n",
              "    <path d=\"M18.56 5.44l.94 2.06.94-2.06 2.06-.94-2.06-.94-.94-2.06-.94 2.06-2.06.94zm-11 1L8.5 8.5l.94-2.06 2.06-.94-2.06-.94L8.5 2.5l-.94 2.06-2.06.94zm10 10l.94 2.06.94-2.06 2.06-.94-2.06-.94-.94-2.06-.94 2.06-2.06.94z\"/><path d=\"M17.41 7.96l-1.37-1.37c-.4-.4-.92-.59-1.43-.59-.52 0-1.04.2-1.43.59L10.3 9.45l-7.72 7.72c-.78.78-.78 2.05 0 2.83L4 21.41c.39.39.9.59 1.41.59.51 0 1.02-.2 1.41-.59l7.78-7.78 2.81-2.81c.8-.78.8-2.07 0-2.86zM5.41 20L4 18.59l7.72-7.72 1.47 1.35L5.41 20z\"/>\n",
              "  </svg>\n",
              "      </button>\n",
              "      \n",
              "  <style>\n",
              "    .colab-df-container {\n",
              "      display:flex;\n",
              "      flex-wrap:wrap;\n",
              "      gap: 12px;\n",
              "    }\n",
              "\n",
              "    .colab-df-convert {\n",
              "      background-color: #E8F0FE;\n",
              "      border: none;\n",
              "      border-radius: 50%;\n",
              "      cursor: pointer;\n",
              "      display: none;\n",
              "      fill: #1967D2;\n",
              "      height: 32px;\n",
              "      padding: 0 0 0 0;\n",
              "      width: 32px;\n",
              "    }\n",
              "\n",
              "    .colab-df-convert:hover {\n",
              "      background-color: #E2EBFA;\n",
              "      box-shadow: 0px 1px 2px rgba(60, 64, 67, 0.3), 0px 1px 3px 1px rgba(60, 64, 67, 0.15);\n",
              "      fill: #174EA6;\n",
              "    }\n",
              "\n",
              "    [theme=dark] .colab-df-convert {\n",
              "      background-color: #3B4455;\n",
              "      fill: #D2E3FC;\n",
              "    }\n",
              "\n",
              "    [theme=dark] .colab-df-convert:hover {\n",
              "      background-color: #434B5C;\n",
              "      box-shadow: 0px 1px 3px 1px rgba(0, 0, 0, 0.15);\n",
              "      filter: drop-shadow(0px 1px 2px rgba(0, 0, 0, 0.3));\n",
              "      fill: #FFFFFF;\n",
              "    }\n",
              "  </style>\n",
              "\n",
              "      <script>\n",
              "        const buttonEl =\n",
              "          document.querySelector('#df-00913d0e-4426-4c56-81f0-2a55ef17b3b8 button.colab-df-convert');\n",
              "        buttonEl.style.display =\n",
              "          google.colab.kernel.accessAllowed ? 'block' : 'none';\n",
              "\n",
              "        async function convertToInteractive(key) {\n",
              "          const element = document.querySelector('#df-00913d0e-4426-4c56-81f0-2a55ef17b3b8');\n",
              "          const dataTable =\n",
              "            await google.colab.kernel.invokeFunction('convertToInteractive',\n",
              "                                                     [key], {});\n",
              "          if (!dataTable) return;\n",
              "\n",
              "          const docLinkHtml = 'Like what you see? Visit the ' +\n",
              "            '<a target=\"_blank\" href=https://colab.research.google.com/notebooks/data_table.ipynb>data table notebook</a>'\n",
              "            + ' to learn more about interactive tables.';\n",
              "          element.innerHTML = '';\n",
              "          dataTable['output_type'] = 'display_data';\n",
              "          await google.colab.output.renderOutput(dataTable, element);\n",
              "          const docLink = document.createElement('div');\n",
              "          docLink.innerHTML = docLinkHtml;\n",
              "          element.appendChild(docLink);\n",
              "        }\n",
              "      </script>\n",
              "    </div>\n",
              "  </div>\n",
              "  "
            ]
          },
          "metadata": {},
          "execution_count": 35
        }
      ]
    },
    {
      "cell_type": "markdown",
      "source": [
        "### **Feature Selection**"
      ],
      "metadata": {
        "id": "WeIJagDSgaED"
      }
    },
    {
      "cell_type": "code",
      "source": [
        "dataset1.drop(columns=['prevalentHyp','is_smoking', 'cigsPerDay'], inplace=True)"
      ],
      "metadata": {
        "id": "GX_7LT7U3d6s"
      },
      "execution_count": 36,
      "outputs": []
    },
    {
      "cell_type": "code",
      "source": [
        "from sklearn.feature_selection import f_classif\n",
        "import scipy.stats as stats"
      ],
      "metadata": {
        "id": "jthlxfP0-mfj"
      },
      "execution_count": 37,
      "outputs": []
    },
    {
      "cell_type": "code",
      "source": [
        "alpha=0.05"
      ],
      "metadata": {
        "id": "IPiAk0sE-ng5"
      },
      "execution_count": 38,
      "outputs": []
    },
    {
      "cell_type": "code",
      "source": [
        "# using one-way ANOVA test to determine dependency between continuous variables and the target categorical variable\n",
        "def cont_dependency(feature,alpha=alpha):\n",
        "  F, p = stats.f_oneway(dataset1[dataset1['RISK'] == 1][feature], dataset1[dataset1['RISK'] == 0][feature])\n",
        "  print('significance=%.3f, p=%.5f' % (alpha, p))\n",
        "  if p <= alpha:\n",
        "    print(f\"Ten year Risk of CHD is dependent on the continuous variable {feature}\")\n",
        "    return True\n",
        "  else:\n",
        "    print(f\"Ten year Risk of CHD is not dependent on continuous variable {feature}\")\n",
        "    return False"
      ],
      "metadata": {
        "id": "njX9LvCU-U17"
      },
      "execution_count": 39,
      "outputs": []
    },
    {
      "cell_type": "markdown",
      "source": [
        "*Ten year risk of CHD deos not dependent on the continuous variables heartRate,id,is_smoking.*"
      ],
      "metadata": {
        "id": "yq2m5_KkKa-g"
      }
    },
    {
      "cell_type": "code",
      "source": [
        "for i in dataset1.columns:\n",
        "  cont_dependency(i)"
      ],
      "metadata": {
        "id": "41ZTnWkDcKx0",
        "outputId": "45874379-fcb5-4acc-dd24-f6f8964fb10a",
        "colab": {
          "base_uri": "https://localhost:8080/"
        }
      },
      "execution_count": 40,
      "outputs": [
        {
          "output_type": "stream",
          "name": "stdout",
          "text": [
            "significance=0.050, p=0.56581\n",
            "Ten year Risk of CHD is not dependent on continuous variable id\n",
            "significance=0.050, p=0.00000\n",
            "Ten year Risk of CHD is dependent on the continuous variable age\n",
            "significance=0.050, p=0.00242\n",
            "Ten year Risk of CHD is dependent on the continuous variable education\n",
            "significance=0.050, p=0.00000\n",
            "Ten year Risk of CHD is dependent on the continuous variable sex\n",
            "significance=0.050, p=nan\n",
            "Ten year Risk of CHD is not dependent on continuous variable BPMeds\n",
            "significance=0.050, p=nan\n",
            "Ten year Risk of CHD is not dependent on continuous variable prevalentStroke\n",
            "significance=0.050, p=nan\n",
            "Ten year Risk of CHD is not dependent on continuous variable diabetes\n",
            "significance=0.050, p=0.00000\n",
            "Ten year Risk of CHD is dependent on the continuous variable totChol\n",
            "significance=0.050, p=0.00000\n",
            "Ten year Risk of CHD is dependent on the continuous variable sysBP\n",
            "significance=0.050, p=0.00000\n",
            "Ten year Risk of CHD is dependent on the continuous variable diaBP\n",
            "significance=0.050, p=0.00017\n",
            "Ten year Risk of CHD is dependent on the continuous variable BMI\n",
            "significance=0.050, p=0.25105\n",
            "Ten year Risk of CHD is not dependent on continuous variable heartRate\n",
            "significance=0.050, p=0.00004\n",
            "Ten year Risk of CHD is dependent on the continuous variable glucose\n",
            "significance=0.050, p=0.00000\n",
            "Ten year Risk of CHD is dependent on the continuous variable RISK\n",
            "significance=0.050, p=0.00000\n",
            "Ten year Risk of CHD is dependent on the continuous variable age_group\n",
            "significance=0.050, p=0.00000\n",
            "Ten year Risk of CHD is dependent on the continuous variable Hypertension\n"
          ]
        }
      ]
    },
    {
      "cell_type": "code",
      "execution_count": 41,
      "metadata": {
        "id": "7zCtD3HqZrsh"
      },
      "outputs": [],
      "source": [
        "#removing unwanted columns\n",
        "dataset1.drop(['id','heartRate','diabetes','heartRate','BPMeds','prevalentStroke'],axis=1,inplace=True)"
      ]
    },
    {
      "cell_type": "code",
      "source": [
        "dataset1.shape"
      ],
      "metadata": {
        "colab": {
          "base_uri": "https://localhost:8080/"
        },
        "id": "_O_tz-XMlK5a",
        "outputId": "9e05288c-c5f9-4450-f0cf-09915e48a1cf"
      },
      "execution_count": 42,
      "outputs": [
        {
          "output_type": "execute_result",
          "data": {
            "text/plain": [
              "(3390, 11)"
            ]
          },
          "metadata": {},
          "execution_count": 42
        }
      ]
    },
    {
      "cell_type": "markdown",
      "source": [
        "## *Imbalanced Data*"
      ],
      "metadata": {
        "id": "3Q5BbW8yjR3r"
      }
    },
    {
      "cell_type": "markdown",
      "source": [
        "*The data is not properly balanced as the number of people without the disease greately exceeds the number of people with the disease.* "
      ],
      "metadata": {
        "id": "QDe4HhN8lbzj"
      }
    },
    {
      "cell_type": "code",
      "source": [
        "sns.set_style('whitegrid')\n",
        "sns.countplot(x='RISK',data=dataset1)"
      ],
      "metadata": {
        "outputId": "179fac6c-68de-4f7d-c42d-59a9bdf6ef33",
        "colab": {
          "base_uri": "https://localhost:8080/",
          "height": 353
        },
        "id": "9oh6lM06TNgZ"
      },
      "execution_count": 43,
      "outputs": [
        {
          "output_type": "execute_result",
          "data": {
            "text/plain": [
              "<matplotlib.axes._subplots.AxesSubplot at 0x7f5474453ca0>"
            ]
          },
          "metadata": {},
          "execution_count": 43
        },
        {
          "output_type": "display_data",
          "data": {
            "text/plain": [
              "<Figure size 720x360 with 1 Axes>"
            ],
            "image/png": "[encoded data removed]"
          },
          "metadata": {}
        }
      ]
    },
    {
      "cell_type": "code",
      "source": [
        "risk_Yes = dataset1[dataset1['RISK']==1]\n",
        "risk_No = dataset1[dataset1['RISK']==0]"
      ],
      "metadata": {
        "id": "ACDY9iH3sg7u"
      },
      "execution_count": 44,
      "outputs": []
    },
    {
      "cell_type": "code",
      "source": [
        "print(risk_Yes.shape,risk_No.shape)"
      ],
      "metadata": {
        "colab": {
          "base_uri": "https://localhost:8080/"
        },
        "id": "yrIEQA17s-9s",
        "outputId": "8b2107bf-a37a-41e5-a10a-62c3e13b4a51"
      },
      "execution_count": 45,
      "outputs": [
        {
          "output_type": "stream",
          "name": "stdout",
          "text": [
            "(511, 11) (2879, 11)\n"
          ]
        }
      ]
    },
    {
      "cell_type": "code",
      "source": [
        "x = dataset1.drop('RISK',axis=1)\n",
        "y = dataset1['RISK']"
      ],
      "metadata": {
        "id": "7zfklJZhk4Aj"
      },
      "execution_count": 46,
      "outputs": []
    },
    {
      "cell_type": "code",
      "source": [
        "from imblearn.over_sampling import SMOTE\n",
        "smote = SMOTE(sampling_strategy='minority')\n",
        "X_sm, y_sm = smote.fit_resample(x, y)\n",
        "# X_sm, y_sm = smote.fit(X,y)"
      ],
      "metadata": {
        "id": "AmLbiFbrkGta"
      },
      "execution_count": 47,
      "outputs": []
    },
    {
      "cell_type": "code",
      "source": [
        "y_sm=pd.DataFrame(y_sm)\n",
        "y_sm.value_counts()"
      ],
      "metadata": {
        "colab": {
          "base_uri": "https://localhost:8080/"
        },
        "id": "4TdFt8vccZLj",
        "outputId": "8af01145-87cf-47cf-e173-fde20029bf8a"
      },
      "execution_count": 48,
      "outputs": [
        {
          "output_type": "execute_result",
          "data": {
            "text/plain": [
              "RISK\n",
              "0       2879\n",
              "1       2879\n",
              "dtype: int64"
            ]
          },
          "metadata": {},
          "execution_count": 48
        }
      ]
    },
    {
      "cell_type": "code",
      "source": [
        "sns.set_style('whitegrid')\n",
        "sns.countplot(x='RISK',data=y_sm)"
      ],
      "metadata": {
        "colab": {
          "base_uri": "https://localhost:8080/",
          "height": 353
        },
        "id": "H6X3SEhZbf4m",
        "outputId": "1eb0a2c3-d395-4ebb-f8b7-9fc83c30c724"
      },
      "execution_count": 49,
      "outputs": [
        {
          "output_type": "execute_result",
          "data": {
            "text/plain": [
              "<matplotlib.axes._subplots.AxesSubplot at 0x7f5474055250>"
            ]
          },
          "metadata": {},
          "execution_count": 49
        },
        {
          "output_type": "display_data",
          "data": {
            "text/plain": [
              "<Figure size 720x360 with 1 Axes>"
            ],
            "image/png": "[encoded data removed]"
          },
          "metadata": {}
        }
      ]
    },
    {
      "cell_type": "markdown",
      "source": [
        "*Spliting the 80% of the dataset into train_data and 20% of the dataset into test_data*"
      ],
      "metadata": {
        "id": "qcnoq4PYW2Dq"
      }
    },
    {
      "cell_type": "code",
      "source": [
        "X_Train, X_Test, Y_Train, Y_Test = train_test_split(X_sm,y_sm,test_size=0.20)"
      ],
      "metadata": {
        "id": "ADhPLc4q3Iy0"
      },
      "execution_count": 50,
      "outputs": []
    },
    {
      "cell_type": "code",
      "source": [
        "print(X_Train.shape)\n",
        "print(X_Test.shape)"
      ],
      "metadata": {
        "colab": {
          "base_uri": "https://localhost:8080/"
        },
        "id": "XYcu5bl0xELF",
        "outputId": "9f33beff-b657-4337-a0db-c302471d5483"
      },
      "execution_count": 51,
      "outputs": [
        {
          "output_type": "stream",
          "name": "stdout",
          "text": [
            "(4606, 10)\n",
            "(1152, 10)\n"
          ]
        }
      ]
    },
    {
      "cell_type": "markdown",
      "source": [
        "##  Feature Scaling\n",
        " \n",
        " *Some machine learning algorithms are sensitive to feature scaling while others are virtually invariant to it*.\n",
        "\n",
        " *Therefore, we scale our data before employing a distance based algorithm so that all the features contribute equally to the result.*"
      ],
      "metadata": {
        "id": "nnFNEvZTe22a"
      }
    },
    {
      "cell_type": "markdown",
      "source": [
        "*StandardScaler will transform your data such that its distribution will have a mean value 0 and standard deviation of 1. Given the distribution of the data, each value in the dataset will have the sample mean value subtracted, and then divided by the standard deviation of the whole dataset.*"
      ],
      "metadata": {
        "id": "yVmJPVL9W8nF"
      }
    },
    {
      "cell_type": "code",
      "execution_count": 52,
      "metadata": {
        "id": "EmV8ri0Vxy9Q"
      },
      "outputs": [],
      "source": [
        "scaler= StandardScaler()\n",
        "X_Train = scaler.fit_transform(X_Train)\n",
        "X_Test = scaler.transform(X_Test)"
      ]
    },
    {
      "cell_type": "markdown",
      "source": [
        "*Chossing the right Cross-Validation*\n",
        "\n",
        "*Choosing the right cross-validation depends on the dataset you are dealing with, and one’s choice of cross-validation on one dataset may or may not apply to other datasets. However, there are a few types of cross-validation techniques which are the most popular and widely used. Here we are using:*\n",
        "\n",
        "***k-fold cross-validation***\n",
        "\n",
        "*As you can see, we divide the samples and the targets associated with them. We can divide the data into k different sets which are exclusive of each other. This is known as k-fold cross-validation, We can split any data into k-equal parts using KFold from scikit-learn. Each sample is assigned a value from 0 to k-1 when using k-fold cross validation.*"
      ],
      "metadata": {
        "id": "VMgFNwdCg2qp"
      }
    },
    {
      "cell_type": "markdown",
      "source": [
        "*We have used a number of machine learning algorithms*"
      ],
      "metadata": {
        "id": "xqtpjbCMYD61"
      }
    },
    {
      "cell_type": "markdown",
      "source": [
        "### ***LOGISTIC REGRESSION***"
      ],
      "metadata": {
        "id": "4REqImDjUFvb"
      }
    },
    {
      "cell_type": "markdown",
      "source": [
        "*Logistic regression is a type of regression analysis in statistics used for prediction of outcome of a categorical dependent variable from a set of predictor or independent variables. In logistic regression the dependent variable is always binary. Logistic regression is mainly used to for prediction and also calculating the probability of success.*"
      ],
      "metadata": {
        "id": "Eo8tHBljUDd7"
      }
    },
    {
      "cell_type": "code",
      "source": [
        "from sklearn.linear_model import LogisticRegression\n",
        "from sklearn.metrics import accuracy_score,confusion_matrix,classification_report\n",
        "from sklearn.model_selection import KFold\n",
        "from sklearn.model_selection import GridSearchCV"
      ],
      "metadata": {
        "id": "O6_sz_HP5oIR"
      },
      "execution_count": 53,
      "outputs": []
    },
    {
      "cell_type": "code",
      "source": [
        "log_class=LogisticRegression()\n",
        "grid={'C':10.0**np.arange(-2,3),'penalty':['l1','l2']}\n",
        "cv=KFold(n_splits=5,shuffle=False,random_state=None)"
      ],
      "metadata": {
        "id": "MQwOSUrh54BO"
      },
      "execution_count": 54,
      "outputs": []
    },
    {
      "cell_type": "code",
      "source": [
        "clf=GridSearchCV(log_class,grid,n_jobs=-1,cv=cv,scoring='f1_macro')\n",
        "clf.fit(X_Train,Y_Train)"
      ],
      "metadata": {
        "colab": {
          "base_uri": "https://localhost:8080/"
        },
        "id": "JrMh24Ir6EW9",
        "outputId": "7200817c-6b26-4cf3-88f4-438dab9ab697"
      },
      "execution_count": 55,
      "outputs": [
        {
          "output_type": "execute_result",
          "data": {
            "text/plain": [
              "GridSearchCV(cv=KFold(n_splits=5, random_state=None, shuffle=False),\n",
              "             estimator=LogisticRegression(), n_jobs=-1,\n",
              "             param_grid={'C': array([1.e-02, 1.e-01, 1.e+00, 1.e+01, 1.e+02]),\n",
              "                         'penalty': ['l1', 'l2']},\n",
              "             scoring='f1_macro')"
            ]
          },
          "metadata": {},
          "execution_count": 55
        }
      ]
    },
    {
      "cell_type": "code",
      "source": [
        "Y_pred=clf.predict(X_Test)\n",
        "lr_ac = accuracy_score(Y_Test,Y_pred)\n",
        "print(f\"accuracy={lr_ac}\")\n",
        "print(classification_report(Y_Test,Y_pred))"
      ],
      "metadata": {
        "colab": {
          "base_uri": "https://localhost:8080/"
        },
        "outputId": "5b851e03-1679-48c5-ac2f-c310e504b293",
        "id": "GVPQgSxsld22"
      },
      "execution_count": 56,
      "outputs": [
        {
          "output_type": "stream",
          "name": "stdout",
          "text": [
            "accuracy=0.6501736111111112\n",
            "              precision    recall  f1-score   support\n",
            "\n",
            "           0       0.65      0.64      0.65       578\n",
            "           1       0.65      0.66      0.65       574\n",
            "\n",
            "    accuracy                           0.65      1152\n",
            "   macro avg       0.65      0.65      0.65      1152\n",
            "weighted avg       0.65      0.65      0.65      1152\n",
            "\n"
          ]
        }
      ]
    },
    {
      "cell_type": "markdown",
      "source": [
        "### **Performance metric**\n",
        "\n",
        "*There are several metrics that can be used to gauge the performance of a given classification algorithm. The choice of the 'appropriate' metrics is then dependent on the type of problem we are dealing with. There are case where, for example, accuracy can be the right choice and in some other case a recall or precision could be more fitting to the purpose. Since we are dealing with medical case (classify if a case is positive for heart disease or not), we could use recall (true positive rate or sensitivity) as performance metrics to choose our classifier. Note here that we do not want to classify positive (has disease) cases as negative (no disease).*\n",
        "\n",
        "**Confusion matrix** : *A confusion matrix is a specific table layout that allows visualization of the performance of a supervised learning algorithm. Each row of the matrix represents the instances in an actual class while each column represents the instances in a predicted class. The table below is an example of a confusion matrix for a binary classification from which other terminologies/metric can be derived. Some of the metrics are described below.*\n",
        "\n"
      ],
      "metadata": {
        "id": "f5evH9h9de4X"
      }
    },
    {
      "cell_type": "code",
      "source": [
        "from sklearn.metrics import confusion_matrix\n",
        "cm_LR=confusion_matrix(Y_Test,Y_pred)\n",
        "conf_matrix=pd.DataFrame(data=cm_LR,columns=['Predicted:0','Predicted:1'],index=['Actual:0','Actual:1'])\n",
        "plt.figure(figsize = (8,5))\n",
        "sns.heatmap(conf_matrix, annot=True,fmt='d',cmap=\"YlGnBu\")"
      ],
      "metadata": {
        "id": "qPOSqMxWW_Qm",
        "colab": {
          "base_uri": "https://localhost:8080/",
          "height": 337
        },
        "outputId": "4445a7ac-ed81-4f72-fbd0-5b473b965b7c"
      },
      "execution_count": 57,
      "outputs": [
        {
          "output_type": "execute_result",
          "data": {
            "text/plain": [
              "<matplotlib.axes._subplots.AxesSubplot at 0x7f5474055100>"
            ]
          },
          "metadata": {},
          "execution_count": 57
        },
        {
          "output_type": "display_data",
          "data": {
            "text/plain": [
              "<Figure size 576x360 with 2 Axes>"
            ],
            "image/png": "[encoded data removed]"
          },
          "metadata": {}
        }
      ]
    },
    {
      "cell_type": "code",
      "source": [
        "from sklearn.metrics import plot_roc_curve\n",
        "plt.figure(figsize=(15,8))\n",
        "svc_disp = plot_roc_curve(clf,X_Test,Y_Test)\n",
        "x,y=np.arange(0,1.1,0.1),np.arange(0,1.1,0.1)\n",
        "plt.plot(x,y,'b--',color='r')\n",
        "plt.show()"
      ],
      "metadata": {
        "colab": {
          "base_uri": "https://localhost:8080/",
          "height": 351
        },
        "id": "kgDVVgN3n6uv",
        "outputId": "46f07db5-b9ee-435f-821f-1446d4826502"
      },
      "execution_count": 58,
      "outputs": [
        {
          "output_type": "display_data",
          "data": {
            "text/plain": [
              "<Figure size 1080x576 with 0 Axes>"
            ]
          },
          "metadata": {}
        },
        {
          "output_type": "display_data",
          "data": {
            "text/plain": [
              "<Figure size 720x360 with 1 Axes>"
            ],
            "image/png": "[encoded data removed]"
          },
          "metadata": {}
        }
      ]
    },
    {
      "cell_type": "markdown",
      "source": [
        "*A common way to visualize the trade-offs of different thresholds is by using an ROC curve, a plot of the true positive rate (# true positives/ total # positives) versus the false positive rate (# false positives / total # negatives) for all possible choices of thresholds. A model with good classification accuracy should have significantly more true positives than false positives at all thresholds.*\n",
        "\n",
        "*The optimum position for roc curve is towards the top left corner where the specificity and sensitivity are at optimum levels.*"
      ],
      "metadata": {
        "id": "rjnUQO2tY5fc"
      }
    },
    {
      "cell_type": "markdown",
      "source": [
        "### ***K Nearest Neighbor***"
      ],
      "metadata": {
        "id": "1hpD84j0q47O"
      }
    },
    {
      "cell_type": "markdown",
      "source": [
        "*K nearest neighbors is a simple algorithm that stores all available cases and classifies new cases based on a similarity measure (e.g., distance functions). KNN has been used in statistical estimation and pattern recognition*"
      ],
      "metadata": {
        "id": "z-soOgphWdzj"
      }
    },
    {
      "cell_type": "code",
      "source": [
        "param_grid = {'n_neighbors':np.arange(1,50)}"
      ],
      "metadata": {
        "id": "vBy9ONapu1dF"
      },
      "execution_count": 59,
      "outputs": []
    },
    {
      "cell_type": "code",
      "source": [
        "knn = KNeighborsClassifier()\n",
        "knn_cv= GridSearchCV(knn,param_grid,cv=5)\n",
        "knn_cv.fit(X_sm,y_sm)"
      ],
      "metadata": {
        "colab": {
          "base_uri": "https://localhost:8080/"
        },
        "id": "N-T-H3N6u5Kj",
        "outputId": "4e371d4e-dde1-4e3d-efdb-bc51a13b5d06"
      },
      "execution_count": 60,
      "outputs": [
        {
          "output_type": "execute_result",
          "data": {
            "text/plain": [
              "GridSearchCV(cv=5, estimator=KNeighborsClassifier(),\n",
              "             param_grid={'n_neighbors': array([ 1,  2,  3,  4,  5,  6,  7,  8,  9, 10, 11, 12, 13, 14, 15, 16, 17,\n",
              "       18, 19, 20, 21, 22, 23, 24, 25, 26, 27, 28, 29, 30, 31, 32, 33, 34,\n",
              "       35, 36, 37, 38, 39, 40, 41, 42, 43, 44, 45, 46, 47, 48, 49])})"
            ]
          },
          "metadata": {},
          "execution_count": 60
        }
      ]
    },
    {
      "cell_type": "code",
      "source": [
        "bestPermet=knn_cv.best_params_\n",
        "knn_cv.best_params_"
      ],
      "metadata": {
        "colab": {
          "base_uri": "https://localhost:8080/"
        },
        "id": "OrkPVjI5xTh8",
        "outputId": "b3bee263-f6e2-4ac2-e942-d6f6bedf9c25"
      },
      "execution_count": 61,
      "outputs": [
        {
          "output_type": "execute_result",
          "data": {
            "text/plain": [
              "{'n_neighbors': 2}"
            ]
          },
          "metadata": {},
          "execution_count": 61
        }
      ]
    },
    {
      "cell_type": "code",
      "source": [
        "#Setup arrays to store training and test accuracies\n",
        "neighbors = np.arange(1,30)\n",
        "train_accuracy =np.empty(len(neighbors))\n",
        "test_accuracy = np.empty(len(neighbors))\n",
        "\n",
        "for i,k in enumerate(neighbors):\n",
        "    # Setup a knn classifier with k neighbors\n",
        "    knn = KNeighborsClassifier(n_neighbors=k)\n",
        "    \n",
        "    # Fit the model\n",
        "    knn.fit(X_Train, Y_Train)\n",
        "    \n",
        "    # Compute accuracy on the training set\n",
        "    train_accuracy[i] = knn.score(X_Train, Y_Train)\n",
        "    \n",
        "    # Compute accuracy on the test set\n",
        "    test_accuracy[i] = knn.score(X_Test, Y_Test) "
      ],
      "metadata": {
        "id": "s0FEZebWx0ga"
      },
      "execution_count": 62,
      "outputs": []
    },
    {
      "cell_type": "code",
      "source": [
        "plt.title('k-NN Varying number of neighbors')\n",
        "plt.plot(neighbors, test_accuracy, label='Testing Accuracy')\n",
        "plt.plot(neighbors, train_accuracy, label='Training accuracy')\n",
        "plt.legend()\n",
        "plt.xlabel('Number of neighbors')\n",
        "plt.ylabel('Accuracy')\n",
        "plt.show()"
      ],
      "metadata": {
        "colab": {
          "base_uri": "https://localhost:8080/",
          "height": 350
        },
        "id": "qDdpUGHfyMCH",
        "outputId": "448b6168-c74f-4cdb-b557-1af1b632755c"
      },
      "execution_count": 63,
      "outputs": [
        {
          "output_type": "display_data",
          "data": {
            "text/plain": [
              "<Figure size 720x360 with 1 Axes>"
            ],
            "image/png": "[encoded data removed]"
          },
          "metadata": {}
        }
      ]
    },
    {
      "cell_type": "code",
      "source": [
        "knn = KNeighborsClassifier(n_neighbors=bestPermet['n_neighbors'])\n",
        "# Fit the model\n",
        "knn.fit(X_Train,Y_Train)"
      ],
      "metadata": {
        "colab": {
          "base_uri": "https://localhost:8080/"
        },
        "id": "h9vxKB4aytcQ",
        "outputId": "dfad9e02-4647-4f1f-d325-c206c0b3d6c1"
      },
      "execution_count": 64,
      "outputs": [
        {
          "output_type": "execute_result",
          "data": {
            "text/plain": [
              "KNeighborsClassifier(n_neighbors=2)"
            ]
          },
          "metadata": {},
          "execution_count": 64
        }
      ]
    },
    {
      "cell_type": "code",
      "source": [
        "y_test_pred_knn = knn.predict(X_Test)"
      ],
      "metadata": {
        "id": "NheM_WMfy4DB"
      },
      "execution_count": 65,
      "outputs": []
    },
    {
      "cell_type": "code",
      "source": [
        "cm_KNN=confusion_matrix(Y_Test,y_test_pred_knn)\n",
        "conf_matrix_knn=pd.DataFrame(data=cm_KNN,columns=['Predicted:0','Predicted:1'],index=['Actual:0','Actual:1'])\n",
        "plt.figure(figsize = (8,5))\n",
        "sns.heatmap(conf_matrix_knn, annot=True,fmt='d',cmap=\"YlGnBu\")"
      ],
      "metadata": {
        "colab": {
          "base_uri": "https://localhost:8080/",
          "height": 337
        },
        "id": "SaV-vxfKobl7",
        "outputId": "f1ad4758-1015-4a45-e718-486db3b1670a"
      },
      "execution_count": 66,
      "outputs": [
        {
          "output_type": "execute_result",
          "data": {
            "text/plain": [
              "<matplotlib.axes._subplots.AxesSubplot at 0x7f5472bf0850>"
            ]
          },
          "metadata": {},
          "execution_count": 66
        },
        {
          "output_type": "display_data",
          "data": {
            "text/plain": [
              "<Figure size 576x360 with 2 Axes>"
            ],
            "image/png": "[encoded data removed]"
          },
          "metadata": {}
        }
      ]
    },
    {
      "cell_type": "code",
      "source": [
        "y_pred_proba = knn.predict_proba(X_Test)[:,1]"
      ],
      "metadata": {
        "id": "VUNkTiAwy--N"
      },
      "execution_count": 67,
      "outputs": []
    },
    {
      "cell_type": "code",
      "source": [
        "from sklearn.metrics import plot_roc_curve\n",
        "fpr, tpr, thresholds = roc_curve(Y_Test, y_pred_proba)\n",
        "roc_auc_score(Y_Test,y_pred_proba)"
      ],
      "metadata": {
        "colab": {
          "base_uri": "https://localhost:8080/"
        },
        "id": "rrIREKA7zDj-",
        "outputId": "5fb34ca2-9ffe-41cb-abfb-cdd5e93a242c"
      },
      "execution_count": 68,
      "outputs": [
        {
          "output_type": "execute_result",
          "data": {
            "text/plain": [
              "0.8695655450128401"
            ]
          },
          "metadata": {},
          "execution_count": 68
        }
      ]
    },
    {
      "cell_type": "code",
      "source": [
        "knn_ac = accuracy_score(Y_Test,y_test_pred_knn)\n",
        "print(f\"accuracy={knn_ac}\")\n",
        "print(classification_report(Y_Test,y_test_pred_knn))"
      ],
      "metadata": {
        "id": "TscXxEd-McQl",
        "outputId": "645b9d00-5078-4b26-9749-3e393756f816",
        "colab": {
          "base_uri": "https://localhost:8080/"
        }
      },
      "execution_count": 69,
      "outputs": [
        {
          "output_type": "stream",
          "name": "stdout",
          "text": [
            "accuracy=0.84375\n",
            "              precision    recall  f1-score   support\n",
            "\n",
            "           0       0.86      0.82      0.84       578\n",
            "           1       0.83      0.87      0.85       574\n",
            "\n",
            "    accuracy                           0.84      1152\n",
            "   macro avg       0.84      0.84      0.84      1152\n",
            "weighted avg       0.84      0.84      0.84      1152\n",
            "\n"
          ]
        }
      ]
    },
    {
      "cell_type": "code",
      "source": [
        "plt.figure(figsize=(5,5))\n",
        "plt.plot([0,1],[0,1],'k--')\n",
        "plt.plot(fpr,tpr, label='Knn')\n",
        "plt.xlabel('False Positive Rate')\n",
        "plt.ylabel('True Positive Rate')\n",
        "plt.title('Knn(n_neighbors=2) ROC curve')\n",
        "plt.show()"
      ],
      "metadata": {
        "colab": {
          "base_uri": "https://localhost:8080/",
          "height": 350
        },
        "id": "5QtujRbrzLdC",
        "outputId": "e12818f2-c1a7-4195-af88-2bd34a872cd8"
      },
      "execution_count": 70,
      "outputs": [
        {
          "output_type": "display_data",
          "data": {
            "text/plain": [
              "<Figure size 360x360 with 1 Axes>"
            ],
            "image/png": "[encoded data removed]"
          },
          "metadata": {}
        }
      ]
    },
    {
      "cell_type": "markdown",
      "source": [
        "## ***SVM***"
      ],
      "metadata": {
        "id": "jG9itp7l5MCk"
      }
    },
    {
      "cell_type": "markdown",
      "source": [
        "***A support vector machine (SVM) is a supervised machine learning model that uses classification algorithms for two-group classification problems.From the classification approach, the goal of SVM is to find a hyperplane in an N-dimensional space that clearly classifies the data points. Thus hyperplanes are decision boundaries that help classify the data points. Data points falling on either side of the hyperplane can be attributed to different classes.***"
      ],
      "metadata": {
        "id": "CVZ0J7rjWWu5"
      }
    },
    {
      "cell_type": "code",
      "source": [
        "from sklearn.svm import SVC"
      ],
      "metadata": {
        "id": "uPSHHdHjP9aB"
      },
      "execution_count": 71,
      "outputs": []
    },
    {
      "cell_type": "code",
      "source": [
        "svc_scores = []\n",
        "kernels = ['linear', 'poly', 'rbf', 'sigmoid']\n",
        "for i in range(len(kernels)):\n",
        "    svc_classifier = SVC(kernel = kernels[i])\n",
        "    svc_classifier.fit(X_Train, Y_Train)\n",
        "    svc_scores.append(round(svc_classifier.score(X_Test, Y_Test),2))"
      ],
      "metadata": {
        "id": "qN0uh3vlGSdY"
      },
      "execution_count": 72,
      "outputs": []
    },
    {
      "cell_type": "code",
      "source": [
        "# colors = rainbow(np.linspace(0, 1, len(kernels)))\n",
        "plt.figure(figsize=(7,4))\n",
        "plt.bar(kernels, svc_scores,color=['red', 'yellow', 'blue', 'orange'])\n",
        "for i in range(len(kernels)):\n",
        "    plt.text(i, svc_scores[i], svc_scores[i])\n",
        "plt.xlabel('Kernels')\n",
        "plt.ylabel('Scores')\n",
        "plt.title('Support Vector Classifier scores for different kernels')"
      ],
      "metadata": {
        "id": "xFydKXANGW51",
        "outputId": "43508ca1-64d0-4850-d278-5c4835d32b05",
        "colab": {
          "base_uri": "https://localhost:8080/",
          "height": 312
        }
      },
      "execution_count": 73,
      "outputs": [
        {
          "output_type": "execute_result",
          "data": {
            "text/plain": [
              "Text(0.5, 1.0, 'Support Vector Classifier scores for different kernels')"
            ]
          },
          "metadata": {},
          "execution_count": 73
        },
        {
          "output_type": "display_data",
          "data": {
            "text/plain": [
              "<Figure size 504x288 with 1 Axes>"
            ],
            "image/png": "[encoded data removed]"
          },
          "metadata": {}
        }
      ]
    },
    {
      "cell_type": "code",
      "source": [
        "svm=SVC(probability=True)\n",
        "svm.fit(X_Train,Y_Train)"
      ],
      "metadata": {
        "id": "eo91cLtTGbQp",
        "outputId": "ae989085-7b55-45f2-afeb-353f14e058f4",
        "colab": {
          "base_uri": "https://localhost:8080/"
        }
      },
      "execution_count": 74,
      "outputs": [
        {
          "output_type": "execute_result",
          "data": {
            "text/plain": [
              "SVC(probability=True)"
            ]
          },
          "metadata": {},
          "execution_count": 74
        }
      ]
    },
    {
      "cell_type": "code",
      "source": [
        "svm.score(X_Test,Y_Test)"
      ],
      "metadata": {
        "id": "tcRmP28jGeqp",
        "outputId": "f43be1b9-a591-4d56-ba92-f2b8b0dd6e00",
        "colab": {
          "base_uri": "https://localhost:8080/"
        }
      },
      "execution_count": 75,
      "outputs": [
        {
          "output_type": "execute_result",
          "data": {
            "text/plain": [
              "0.6918402777777778"
            ]
          },
          "metadata": {},
          "execution_count": 75
        }
      ]
    },
    {
      "cell_type": "code",
      "source": [
        "y_svm_predi=svm.predict(X_Test)"
      ],
      "metadata": {
        "id": "g1hpbz0bGiDh"
      },
      "execution_count": 76,
      "outputs": []
    },
    {
      "cell_type": "code",
      "source": [
        "acc_svm = accuracy_score(Y_Test,y_svm_predi)\n",
        "print(f\"accuracy={acc_svm}\")\n",
        "print(classification_report(Y_Test,y_svm_predi))"
      ],
      "metadata": {
        "id": "5th8UoBMNuAZ",
        "outputId": "f04a1fec-d66e-414b-dc19-af27789bdcaf",
        "colab": {
          "base_uri": "https://localhost:8080/"
        }
      },
      "execution_count": 77,
      "outputs": [
        {
          "output_type": "stream",
          "name": "stdout",
          "text": [
            "accuracy=0.6918402777777778\n",
            "              precision    recall  f1-score   support\n",
            "\n",
            "           0       0.73      0.62      0.67       578\n",
            "           1       0.67      0.76      0.71       574\n",
            "\n",
            "    accuracy                           0.69      1152\n",
            "   macro avg       0.70      0.69      0.69      1152\n",
            "weighted avg       0.70      0.69      0.69      1152\n",
            "\n"
          ]
        }
      ]
    },
    {
      "cell_type": "code",
      "source": [
        "cm_SVM=confusion_matrix(Y_Test,y_svm_predi)\n",
        "conf_matrix_svm=pd.DataFrame(data=cm_SVM,columns=['Predicted:0','Predicted:1'],index=['Actual:0','Actual:1'])\n",
        "plt.figure(figsize = (8,5))\n",
        "sns.heatmap(conf_matrix_svm, annot=True,fmt='d',cmap=\"YlGnBu\")"
      ],
      "metadata": {
        "id": "_B02Dv-mGpgs",
        "outputId": "0975d987-dce0-4ea1-df54-f53d4f9a3515",
        "colab": {
          "base_uri": "https://localhost:8080/",
          "height": 337
        }
      },
      "execution_count": 78,
      "outputs": [
        {
          "output_type": "execute_result",
          "data": {
            "text/plain": [
              "<matplotlib.axes._subplots.AxesSubplot at 0x7f54747b0fd0>"
            ]
          },
          "metadata": {},
          "execution_count": 78
        },
        {
          "output_type": "display_data",
          "data": {
            "text/plain": [
              "<Figure size 576x360 with 2 Axes>"
            ],
            "image/png": "[encoded data removed]"
          },
          "metadata": {}
        }
      ]
    },
    {
      "cell_type": "code",
      "source": [
        "y_svm_predict_pro=svm.predict_proba(X_Test)[:,1]\n",
        "fpr, tpr, thresholds = roc_curve(Y_Test, y_svm_predict_pro)"
      ],
      "metadata": {
        "id": "ZHi4XhxqGu1q"
      },
      "execution_count": 79,
      "outputs": []
    },
    {
      "cell_type": "code",
      "source": [
        "roc_auc_score(Y_Test,y_svm_predict_pro)"
      ],
      "metadata": {
        "id": "UZlPboGuGyIM",
        "outputId": "b847c4bc-66d4-4cd5-a572-a2ebd649280e",
        "colab": {
          "base_uri": "https://localhost:8080/"
        }
      },
      "execution_count": 80,
      "outputs": [
        {
          "output_type": "execute_result",
          "data": {
            "text/plain": [
              "0.7726013647926888"
            ]
          },
          "metadata": {},
          "execution_count": 80
        }
      ]
    },
    {
      "cell_type": "code",
      "source": [
        "plt.figure(figsize=(5,5))\n",
        "plt.plot([0,1],[0,1],'k--')\n",
        "plt.plot(fpr,tpr, label='SVM')\n",
        "plt.xlabel('False Positive Rate')\n",
        "plt.ylabel('True Positive Rate')\n",
        "plt.title('SVM ROC curve')\n",
        "plt.show()"
      ],
      "metadata": {
        "id": "Q7BxV81hG3AJ",
        "outputId": "7cb9afa9-5516-4f51-e574-f96f6c147b91",
        "colab": {
          "base_uri": "https://localhost:8080/",
          "height": 350
        }
      },
      "execution_count": 81,
      "outputs": [
        {
          "output_type": "display_data",
          "data": {
            "text/plain": [
              "<Figure size 360x360 with 1 Axes>"
            ],
            "image/png": "[encoded data removed]"
          },
          "metadata": {}
        }
      ]
    },
    {
      "cell_type": "markdown",
      "source": [
        "# ***Decision Tree***\n",
        "\n",
        "*Decision tree is a type of supervised learning algorithm that is mostly used in classification problems. It works for both categorical and continuous input and output variables.*"
      ],
      "metadata": {
        "id": "Jh5h4cC16HmL"
      }
    },
    {
      "cell_type": "code",
      "source": [
        "decision_tree_model = DecisionTreeClassifier(criterion=\"entropy\",max_leaf_nodes= 50,random_state=0)\n",
        "decision_tree_model.fit(X_Train,Y_Train)"
      ],
      "metadata": {
        "id": "1vTLlHnN6Df2",
        "colab": {
          "base_uri": "https://localhost:8080/"
        },
        "outputId": "7777a294-0c03-495a-bac3-2dff12b28492"
      },
      "execution_count": 82,
      "outputs": [
        {
          "output_type": "execute_result",
          "data": {
            "text/plain": [
              "DecisionTreeClassifier(criterion='entropy', max_leaf_nodes=50, random_state=0)"
            ]
          },
          "metadata": {},
          "execution_count": 82
        }
      ]
    },
    {
      "cell_type": "code",
      "source": [
        "train_preds = decision_tree_model.predict(X_Train)\n",
        "test_preds = decision_tree_model.predict(X_Test)"
      ],
      "metadata": {
        "id": "I60VxByc6avG"
      },
      "execution_count": 83,
      "outputs": []
    },
    {
      "cell_type": "code",
      "source": [
        "#the confusion matrix for test data\n",
        "labels = ['No Risk', 'At Risk']\n",
        "cm_DT = confusion_matrix(Y_Test, test_preds)\n",
        "ax= plt.subplot()\n",
        "sns.heatmap(cm_DT, annot=True, ax = ax) #annot=True to annotate cells\n",
        "# labels, title and ticks\n",
        "ax.set_xlabel('Predicted labels')\n",
        "ax.set_ylabel('True labels')\n",
        "ax.set_title('Confusion Matrix for Decision Tree Test predict')\n",
        "ax.xaxis.set_ticklabels(labels)\n",
        "ax.yaxis.set_ticklabels(labels)"
      ],
      "metadata": {
        "id": "Sm_rGGe86gF3",
        "colab": {
          "base_uri": "https://localhost:8080/",
          "height": 367
        },
        "outputId": "658cffe2-00d8-4efc-f111-32840364efc4"
      },
      "execution_count": 84,
      "outputs": [
        {
          "output_type": "execute_result",
          "data": {
            "text/plain": [
              "[Text(0, 0.5, 'No Risk'), Text(0, 1.5, 'At Risk')]"
            ]
          },
          "metadata": {},
          "execution_count": 84
        },
        {
          "output_type": "display_data",
          "data": {
            "text/plain": [
              "<Figure size 720x360 with 2 Axes>"
            ],
            "image/png": "[encoded data removed]"
          },
          "metadata": {}
        }
      ]
    },
    {
      "cell_type": "code",
      "source": [
        "#classification report for test\n",
        "acc_dt = accuracy_score(Y_Test, test_preds)\n",
        "print(f\"accuracy={acc_dt}\")\n",
        "print(classification_report(Y_Test, test_preds))"
      ],
      "metadata": {
        "id": "91juQNsw6mAL",
        "colab": {
          "base_uri": "https://localhost:8080/"
        },
        "outputId": "fc187223-cbbb-496b-b5e8-3d2361248577"
      },
      "execution_count": 85,
      "outputs": [
        {
          "output_type": "stream",
          "name": "stdout",
          "text": [
            "accuracy=0.8081597222222222\n",
            "              precision    recall  f1-score   support\n",
            "\n",
            "           0       0.75      0.92      0.83       578\n",
            "           1       0.90      0.70      0.78       574\n",
            "\n",
            "    accuracy                           0.81      1152\n",
            "   macro avg       0.82      0.81      0.81      1152\n",
            "weighted avg       0.82      0.81      0.81      1152\n",
            "\n"
          ]
        }
      ]
    },
    {
      "cell_type": "code",
      "source": [
        "y_dt_predict_pro=decision_tree_model.predict_proba(X_Test)[:,1]\n",
        "fpr, tpr, thresholds = roc_curve(Y_Test, y_svm_predict_pro)"
      ],
      "metadata": {
        "id": "5KmHa-Svxdxv"
      },
      "execution_count": 86,
      "outputs": []
    },
    {
      "cell_type": "code",
      "source": [
        "roc_auc_score(Y_Test,y_dt_predict_pro)"
      ],
      "metadata": {
        "id": "GzLXzPhexweT",
        "outputId": "a29bac79-a699-4611-f246-ff4ac5af5e1e",
        "colab": {
          "base_uri": "https://localhost:8080/"
        }
      },
      "execution_count": 87,
      "outputs": [
        {
          "output_type": "execute_result",
          "data": {
            "text/plain": [
              "0.8763593672763224"
            ]
          },
          "metadata": {},
          "execution_count": 87
        }
      ]
    },
    {
      "cell_type": "code",
      "source": [
        "plt.figure(figsize=(5,5))\n",
        "plt.plot([0,1],[0,1],'k--')\n",
        "plt.plot(fpr,tpr, label='DecisionTree')\n",
        "plt.xlabel('False Positive Rate')\n",
        "plt.ylabel('True Positive Rate')\n",
        "plt.title('DecisionTree ROC curve')\n",
        "plt.show()"
      ],
      "metadata": {
        "id": "Rdwe9t59xzHf",
        "outputId": "20522c5f-863b-462a-9305-f1e2148245f2",
        "colab": {
          "base_uri": "https://localhost:8080/",
          "height": 350
        }
      },
      "execution_count": 88,
      "outputs": [
        {
          "output_type": "display_data",
          "data": {
            "text/plain": [
              "<Figure size 360x360 with 1 Axes>"
            ],
            "image/png": "[encoded data removed]"
          },
          "metadata": {}
        }
      ]
    },
    {
      "cell_type": "markdown",
      "source": [
        "# ***Random Forest***"
      ],
      "metadata": {
        "id": "PuZOozpVrk9Q"
      }
    },
    {
      "cell_type": "markdown",
      "source": [
        "*Random forests or random decision forests are an ensemble learning method for classification, regression and other tasks that operates by constructing a multitude of decision trees at training time and outputting the class that is the mode of the classes or mean prediction of the individual trees*\n",
        "\n"
      ],
      "metadata": {
        "id": "1EXr4FKAWliT"
      }
    },
    {
      "cell_type": "code",
      "source": [
        "classifier_RF = RandomForestClassifier() # For GBM, use GradientBoostingClassifier()\n",
        "grid_values = {'n_estimators':[50, 65, 80, 95,120], 'max_depth':[3, 5, 7,9,12]}\n",
        "GSclassifier = GridSearchCV(classifier_RF, param_grid = grid_values, scoring = 'roc_auc', cv=5)\n",
        "\n",
        "# Fit the object to train dataset\n",
        "GSclassifier.fit(X_Train, Y_Train)"
      ],
      "metadata": {
        "colab": {
          "base_uri": "https://localhost:8080/"
        },
        "id": "6NHs3DQSoZBK",
        "outputId": "bae0f9df-ce77-4f36-8ce9-606461ae2555"
      },
      "execution_count": 89,
      "outputs": [
        {
          "output_type": "execute_result",
          "data": {
            "text/plain": [
              "GridSearchCV(cv=5, estimator=RandomForestClassifier(),\n",
              "             param_grid={'max_depth': [3, 5, 7, 9, 12],\n",
              "                         'n_estimators': [50, 65, 80, 95, 120]},\n",
              "             scoring='roc_auc')"
            ]
          },
          "metadata": {},
          "execution_count": 89
        }
      ]
    },
    {
      "cell_type": "code",
      "source": [
        "bestvalues=GSclassifier.best_params_\n",
        "GSclassifier.best_params_"
      ],
      "metadata": {
        "colab": {
          "base_uri": "https://localhost:8080/"
        },
        "id": "OohvJkESo0xS",
        "outputId": "cfc053c5-dc29-4894-bc60-e35b1693a7d6"
      },
      "execution_count": 90,
      "outputs": [
        {
          "output_type": "execute_result",
          "data": {
            "text/plain": [
              "{'max_depth': 12, 'n_estimators': 120}"
            ]
          },
          "metadata": {},
          "execution_count": 90
        }
      ]
    },
    {
      "cell_type": "code",
      "source": [
        "classifier = RandomForestClassifier(max_depth=bestvalues['max_depth'],n_estimators=bestvalues['n_estimators']) # For GBM, use GradientBoostingClassifier()\n",
        "\n",
        "classifier.fit(X_Train, Y_Train)"
      ],
      "metadata": {
        "colab": {
          "base_uri": "https://localhost:8080/"
        },
        "id": "siqg6_MFo5C1",
        "outputId": "74787b5d-d348-489e-8049-0d654ab5ec08"
      },
      "execution_count": 91,
      "outputs": [
        {
          "output_type": "execute_result",
          "data": {
            "text/plain": [
              "RandomForestClassifier(max_depth=12, n_estimators=120)"
            ]
          },
          "metadata": {},
          "execution_count": 91
        }
      ]
    },
    {
      "cell_type": "code",
      "source": [
        "y_train_preds_rf =  classifier.predict(X_Train)\n",
        "y_test_preds_rf= classifier.predict(X_Test)"
      ],
      "metadata": {
        "id": "g92klFN2pDx0"
      },
      "execution_count": 92,
      "outputs": []
    },
    {
      "cell_type": "code",
      "source": [
        "accuracy_score(Y_Train,y_train_preds_rf)"
      ],
      "metadata": {
        "colab": {
          "base_uri": "https://localhost:8080/"
        },
        "id": "yY_gHdTSprUI",
        "outputId": "2fc59a17-aa20-4dc2-dc7e-1127c6ea6c67"
      },
      "execution_count": 93,
      "outputs": [
        {
          "output_type": "execute_result",
          "data": {
            "text/plain": [
              "0.9865392965696917"
            ]
          },
          "metadata": {},
          "execution_count": 93
        }
      ]
    },
    {
      "cell_type": "code",
      "source": [
        "acc_rfc = accuracy_score(Y_Test,y_test_preds_rf)\n",
        "print(acc_rfc)"
      ],
      "metadata": {
        "colab": {
          "base_uri": "https://localhost:8080/"
        },
        "id": "_IVVLvEvpx6C",
        "outputId": "6d9c98d4-2e29-47ff-8b81-598e3c2d6667"
      },
      "execution_count": 94,
      "outputs": [
        {
          "output_type": "stream",
          "name": "stdout",
          "text": [
            "0.8862847222222222\n"
          ]
        }
      ]
    },
    {
      "cell_type": "code",
      "source": [
        "y_rf_predict_pro=classifier.predict_proba(X_Test)[:,1]\n",
        "fpr, tpr, thresholds = roc_curve(Y_Test, y_rf_predict_pro)\n",
        "roc_auc_score(Y_Test,y_rf_predict_pro)"
      ],
      "metadata": {
        "colab": {
          "base_uri": "https://localhost:8080/"
        },
        "id": "Ru2dj68ep5tx",
        "outputId": "f5f2fbc5-0f88-42af-bffc-1d0cd7c8b08c"
      },
      "execution_count": 95,
      "outputs": [
        {
          "output_type": "execute_result",
          "data": {
            "text/plain": [
              "0.9516113475519332"
            ]
          },
          "metadata": {},
          "execution_count": 95
        }
      ]
    },
    {
      "cell_type": "code",
      "source": [
        "acc_rfc = accuracy_score(Y_Test,y_test_preds_rf)\n",
        "print(f\"accuracy={acc_rfc}\")\n",
        "print(classification_report(Y_Test,y_test_preds_rf))"
      ],
      "metadata": {
        "id": "BMuMIHHAziAT",
        "outputId": "ff1911d5-0947-471c-b77b-76d4167e3a3c",
        "colab": {
          "base_uri": "https://localhost:8080/"
        }
      },
      "execution_count": 96,
      "outputs": [
        {
          "output_type": "stream",
          "name": "stdout",
          "text": [
            "accuracy=0.8862847222222222\n",
            "              precision    recall  f1-score   support\n",
            "\n",
            "           0       0.87      0.91      0.89       578\n",
            "           1       0.90      0.87      0.88       574\n",
            "\n",
            "    accuracy                           0.89      1152\n",
            "   macro avg       0.89      0.89      0.89      1152\n",
            "weighted avg       0.89      0.89      0.89      1152\n",
            "\n"
          ]
        }
      ]
    },
    {
      "cell_type": "code",
      "source": [
        "cm_RF=confusion_matrix(Y_Test,y_test_preds_rf)\n",
        "conf_matrix_rf=pd.DataFrame(data=cm_RF,columns=['Predicted:0','Predicted:1'],index=['Actual:0','Actual:1'])\n",
        "plt.figure(figsize = (8,5))\n",
        "sns.heatmap(conf_matrix_rf, annot=True,fmt='d',cmap=\"YlGnBu\")"
      ],
      "metadata": {
        "id": "LKQdfWOu0BS1",
        "outputId": "1f2d405c-07a4-4d4f-fb42-32382132e19d",
        "colab": {
          "base_uri": "https://localhost:8080/",
          "height": 337
        }
      },
      "execution_count": 97,
      "outputs": [
        {
          "output_type": "execute_result",
          "data": {
            "text/plain": [
              "<matplotlib.axes._subplots.AxesSubplot at 0x7f547435fe20>"
            ]
          },
          "metadata": {},
          "execution_count": 97
        },
        {
          "output_type": "display_data",
          "data": {
            "text/plain": [
              "<Figure size 576x360 with 2 Axes>"
            ],
            "image/png": "[encoded data removed]"
          },
          "metadata": {}
        }
      ]
    },
    {
      "cell_type": "code",
      "source": [
        "plt.figure(figsize=(5,5))\n",
        "plt.plot([0,1],[0,1],'k--')\n",
        "plt.plot(fpr,tpr, label='Random Forest')\n",
        "plt.xlabel('False Positive Rate')\n",
        "plt.ylabel('True Positive Rate')\n",
        "plt.title('Random Forest ROC curve')\n",
        "plt.show()"
      ],
      "metadata": {
        "colab": {
          "base_uri": "https://localhost:8080/",
          "height": 350
        },
        "id": "NMUaeXZrqT1O",
        "outputId": "f9091373-4af2-4888-ec66-a8542ca09553"
      },
      "execution_count": 98,
      "outputs": [
        {
          "output_type": "display_data",
          "data": {
            "text/plain": [
              "<Figure size 360x360 with 1 Axes>"
            ],
            "image/png": "[encoded data removed]"
          },
          "metadata": {}
        }
      ]
    },
    {
      "cell_type": "markdown",
      "source": [
        "# **Gradient Boosting**"
      ],
      "metadata": {
        "id": "bzQMdRXc5dJW"
      }
    },
    {
      "cell_type": "code",
      "source": [
        "from sklearn.ensemble import GradientBoostingClassifier"
      ],
      "metadata": {
        "id": "gG2Q7GW6ft0W"
      },
      "execution_count": 99,
      "outputs": []
    },
    {
      "cell_type": "code",
      "source": [
        "gradientBC = GradientBoostingClassifier(learning_rate=0.001,n_estimators=30,max_depth=20,random_state=30,min_samples_split=3)\n",
        "grid_values = {'n_estimators':[50, 80,  100], 'max_depth':[3, 5, 7 , 10],'learning_rate':[0.0001,0.001,0.01,0.05,0.000001,0.0003]}\n",
        "classifier_GB = GridSearchCV(gradientBC, param_grid = grid_values, scoring = 'roc_auc', cv=5)\n",
        "classifier_GB.fit(X_Train,Y_Train)"
      ],
      "metadata": {
        "id": "9tXr-X27ziTh",
        "colab": {
          "base_uri": "https://localhost:8080/"
        },
        "outputId": "d66773b9-b8a0-4f38-df57-1392c2703fb0"
      },
      "execution_count": 100,
      "outputs": [
        {
          "output_type": "execute_result",
          "data": {
            "text/plain": [
              "GridSearchCV(cv=5,\n",
              "             estimator=GradientBoostingClassifier(learning_rate=0.001,\n",
              "                                                  max_depth=20,\n",
              "                                                  min_samples_split=3,\n",
              "                                                  n_estimators=30,\n",
              "                                                  random_state=30),\n",
              "             param_grid={'learning_rate': [0.0001, 0.001, 0.01, 0.05, 1e-06,\n",
              "                                           0.0003],\n",
              "                         'max_depth': [3, 5, 7, 10],\n",
              "                         'n_estimators': [50, 80, 100]},\n",
              "             scoring='roc_auc')"
            ]
          },
          "metadata": {},
          "execution_count": 100
        }
      ]
    },
    {
      "cell_type": "code",
      "source": [
        "train_preds_gb = classifier_GB.predict(X_Train)\n",
        "test_preds_gb  = classifier_GB.predict(X_Test)"
      ],
      "metadata": {
        "id": "u0n2WXCUznns"
      },
      "execution_count": 101,
      "outputs": []
    },
    {
      "cell_type": "code",
      "source": [
        "cm_GB=confusion_matrix(Y_Test,test_preds_gb)\n",
        "conf_matrix_gb=pd.DataFrame(data=cm_GB,columns=['Predicted:0','Predicted:1'],index=['Actual:0','Actual:1'])\n",
        "plt.figure(figsize = (8,5))\n",
        "sns.heatmap(conf_matrix_gb, annot=True,fmt='d',cmap=\"YlGnBu\")"
      ],
      "metadata": {
        "id": "pIvMospA190y",
        "outputId": "324ecf8f-1e50-42cc-8242-d43c07bde94f",
        "colab": {
          "base_uri": "https://localhost:8080/",
          "height": 337
        }
      },
      "execution_count": 102,
      "outputs": [
        {
          "output_type": "execute_result",
          "data": {
            "text/plain": [
              "<matplotlib.axes._subplots.AxesSubplot at 0x7f5471ed3910>"
            ]
          },
          "metadata": {},
          "execution_count": 102
        },
        {
          "output_type": "display_data",
          "data": {
            "text/plain": [
              "<Figure size 576x360 with 2 Axes>"
            ],
            "image/png": "[encoded data removed]"
          },
          "metadata": {}
        }
      ]
    },
    {
      "cell_type": "code",
      "source": [
        "acc_gb=accuracy_score(Y_Test,test_preds_gb)\n",
        "print(f\"accuracy={acc_gb}\")\n",
        "print(classification_report(Y_Test,test_preds_gb))"
      ],
      "metadata": {
        "id": "rgVUSviQztTP",
        "colab": {
          "base_uri": "https://localhost:8080/"
        },
        "outputId": "7cc7291c-7825-4787-b41b-67f9a4db78f3"
      },
      "execution_count": 103,
      "outputs": [
        {
          "output_type": "stream",
          "name": "stdout",
          "text": [
            "accuracy=0.8819444444444444\n",
            "              precision    recall  f1-score   support\n",
            "\n",
            "           0       0.85      0.93      0.89       578\n",
            "           1       0.92      0.84      0.88       574\n",
            "\n",
            "    accuracy                           0.88      1152\n",
            "   macro avg       0.89      0.88      0.88      1152\n",
            "weighted avg       0.89      0.88      0.88      1152\n",
            "\n"
          ]
        }
      ]
    },
    {
      "cell_type": "code",
      "source": [
        "y_gb_predict_pro=classifier_GB.predict_proba(X_Test)[:,1]\n",
        "fpr, tpr, thresholds = roc_curve(Y_Test, y_gb_predict_pro)"
      ],
      "metadata": {
        "id": "4objg2HX3JAo"
      },
      "execution_count": 104,
      "outputs": []
    },
    {
      "cell_type": "code",
      "source": [
        "plt.figure(figsize=(5,5))\n",
        "plt.plot([0,1],[0,1],'k--')\n",
        "plt.plot(fpr,tpr, label='Random Forest')\n",
        "plt.xlabel('False Positive Rate')\n",
        "plt.ylabel('True Positive Rate')\n",
        "plt.title('Random Forest ROC curve')\n",
        "plt.show()"
      ],
      "metadata": {
        "id": "khhwpZVU3jdh",
        "outputId": "35976250-1cfa-4342-ed32-0ab7f13f15a7",
        "colab": {
          "base_uri": "https://localhost:8080/",
          "height": 350
        }
      },
      "execution_count": 105,
      "outputs": [
        {
          "output_type": "display_data",
          "data": {
            "text/plain": [
              "<Figure size 360x360 with 1 Axes>"
            ],
            "image/png": "[encoded data removed]"
          },
          "metadata": {}
        }
      ]
    },
    {
      "cell_type": "markdown",
      "source": [
        "***Plotting the Accuracy of the models***\n",
        "\n",
        "*Here we plot the performance or the accuracy of the different machine learning model, in this plot we observe that the different models have different performance.*"
      ],
      "metadata": {
        "id": "88qZxc5TU0P7"
      }
    },
    {
      "cell_type": "code",
      "source": [
        "model_accuracy = pd.Series(data=[lr_ac,acc_svm,acc_rfc,knn_ac,acc_dt,acc_gb], \n",
        "                index=['Logistic Regression','SVM Classifier',\n",
        "                                      'Random Forest','KNN','Decision Tree','Gradient Boosting'])\n",
        "fig= plt.figure(figsize=(10,7))\n",
        "model_accuracy.sort_values().plot.barh()\n",
        "plt.title('Model Accracy')"
      ],
      "metadata": {
        "id": "ste0k4D5K06_",
        "outputId": "d893b488-d0f9-4596-b505-9a5c6e44b9f2",
        "colab": {
          "base_uri": "https://localhost:8080/",
          "height": 461
        }
      },
      "execution_count": 106,
      "outputs": [
        {
          "output_type": "execute_result",
          "data": {
            "text/plain": [
              "Text(0.5, 1.0, 'Model Accracy')"
            ]
          },
          "metadata": {},
          "execution_count": 106
        },
        {
          "output_type": "display_data",
          "data": {
            "text/plain": [
              "<Figure size 720x504 with 1 Axes>"
            ],
            "image/png": "[encoded data removed]"
          },
          "metadata": {}
        }
      ]
    },
    {
      "cell_type": "code",
      "source": [
        "from prettytable import PrettyTable\n",
        "test = PrettyTable(['SL NO',\"MODEL_NAME\", \"Accuracy\", \"F1-score_class0\",'F1-score_class1','Precision_class0','Precision_class1','Recall_class0','Recall_class1'])\n",
        "test.add_row(['1','Logistic Regression','0.65','0.65','0.65','0.65','0.65','0.64','0.66'])\n",
        "test.add_row(['2','KNearest Neighbors','0.84','0.84','0.85','0.86','0.83','0.82','0.87'])\n",
        "test.add_row(['3','SVM','0.69','0.67','0.71','0.73','0.67','0.62','0.76'])\n",
        "test.add_row(['4','Decision Tree','0.80','0.83','0.78','0.75','0.90','0.92','0.70'])\n",
        "test.add_row(['5','Random Forest','0.88','0.89','0.88','0.87','0.90','0.91','0.87'])\n",
        "test.add_row(['6','Gradient Boosting','0.88','0.89','0.88','0.85','0.92','0.93','0.84'])\n",
        "print(test)"
      ],
      "metadata": {
        "id": "E5wz-X5SRQLn",
        "colab": {
          "base_uri": "https://localhost:8080/"
        },
        "outputId": "99dd21df-4140-4333-dd33-fc64a2fbfd54"
      },
      "execution_count": 108,
      "outputs": [
        {
          "output_type": "stream",
          "name": "stdout",
          "text": [
            "+-------+---------------------+----------+-----------------+-----------------+------------------+------------------+---------------+---------------+\n",
            "| SL NO |      MODEL_NAME     | Accuracy | F1-score_class0 | F1-score_class1 | Precision_class0 | Precision_class1 | Recall_class0 | Recall_class1 |\n",
            "+-------+---------------------+----------+-----------------+-----------------+------------------+------------------+---------------+---------------+\n",
            "|   1   | Logistic Regression |   0.65   |       0.65      |       0.65      |       0.65       |       0.65       |      0.64     |      0.66     |\n",
            "|   2   |  KNearest Neighbors |   0.84   |       0.84      |       0.85      |       0.86       |       0.83       |      0.82     |      0.87     |\n",
            "|   3   |         SVM         |   0.69   |       0.67      |       0.71      |       0.73       |       0.67       |      0.62     |      0.76     |\n",
            "|   4   |    Decision Tree    |   0.80   |       0.83      |       0.78      |       0.75       |       0.90       |      0.92     |      0.70     |\n",
            "|   5   |    Random Forest    |   0.88   |       0.89      |       0.88      |       0.87       |       0.90       |      0.91     |      0.87     |\n",
            "|   6   |  Gradient Boosting  |   0.88   |       0.89      |       0.88      |       0.85       |       0.92       |      0.93     |      0.84     |\n",
            "+-------+---------------------+----------+-----------------+-----------------+------------------+------------------+---------------+---------------+\n"
          ]
        }
      ]
    },
    {
      "cell_type": "markdown",
      "source": [
        "\n",
        "\n",
        "*   Logistic Regression is the poor model and Random forest is the best model.\n",
        "\n",
        "*   Gradient Boosting has almost the the same accuracy as Random Forest.\n",
        "\n",
        "*   Both Random Forest and Gradient Boosting are Ensemble Techniques.They are\n",
        "    performing equally good.\n",
        "*   Logistic Regression and SVM are not good models.\n",
        "\n",
        "\n"
      ],
      "metadata": {
        "id": "1YhFi-LLLPRY"
      }
    },
    {
      "cell_type": "markdown",
      "source": [
        "## ***Summary***\n",
        "\n",
        "*We started with the data exploration where we got a feeling for the dataset, checked about missing data and learned which features are important. During this process we used Plotly, seaborn and matplotlib to do the visualizations. During the data preprocessing part, we converted features into numeric ones, grouped values into categories and created a few new features. Afterwards we started training machine learning models, and applied cross validation on it. Of course there is still room for improvement, like doing a more extensive feature engineering, by comparing and plotting the features against each other and identifying and removing the noisy features.Lastly, we looked at it’s confusion matrix and computed the models precision.*"
      ],
      "metadata": {
        "id": "m0JteWQ_LF7h"
      }
    }
  ],
  "metadata": {
    "colab": {
      "provenance": [],
      "authorship_tag": "ABX9TyPWu5Ip7ZwcAE8/TuMJOIBI",
      "include_colab_link": true
    },
    "kernelspec": {
      "display_name": "Python 3",
      "name": "python3"
    },
    "language_info": {
      "name": "python"
    }
  },
  "nbformat": 4,
  "nbformat_minor": 0
}